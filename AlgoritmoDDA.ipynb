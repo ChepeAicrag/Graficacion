{
  "nbformat": 4,
  "nbformat_minor": 0,
  "metadata": {
    "colab": {
      "name": "AlgoritmoDDA",
      "provenance": [],
      "authorship_tag": "ABX9TyMgZJEm0vup8/h+wOWDxFSU",
      "include_colab_link": true
    },
    "kernelspec": {
      "name": "python3",
      "display_name": "Python 3"
    },
    "language_info": {
      "name": "python"
    }
  },
  "cells": [
    {
      "cell_type": "markdown",
      "metadata": {
        "id": "view-in-github",
        "colab_type": "text"
      },
      "source": [
        "<a href=\"https://colab.research.google.com/github/ChepeAicrag12/Graficacion/blob/master/AlgoritmoDDA.ipynb\" target=\"_parent\"><img src=\"https://colab.research.google.com/assets/colab-badge.svg\" alt=\"Open In Colab\"/></a>"
      ]
    },
    {
      "cell_type": "code",
      "metadata": {
        "colab": {
          "base_uri": "https://localhost:8080/"
        },
        "id": "PioISB_ecVAQ",
        "outputId": "1e6bbfe4-10c5-47b6-b098-7a7673460a4f"
      },
      "source": [
        "# Función del algoritmo Analizador Diferencial Digital (DDA)\n",
        "def DDA(x0, y0, x1, y1):\n",
        "  dx, dy = x1 - x0, y1 - y0\n",
        "  m = dy / dx\n",
        "  pasos = dx if m < 1 else dy\n",
        "  x, y = x0, y0\n",
        "  print(x, y)\n",
        "  for _ in range(pasos): \n",
        "    x = x + dx / pasos\n",
        "    y = y + dy / pasos\n",
        "    print(x, y)\n",
        "\n",
        "# Test \n",
        "DDA(0,5, 5, 5)"
      ],
      "execution_count": 11,
      "outputs": [
        {
          "output_type": "stream",
          "text": [
            "0 5\n",
            "1.0 5.0\n",
            "2.0 5.0\n",
            "3.0 5.0\n",
            "4.0 5.0\n",
            "5.0 5.0\n"
          ],
          "name": "stdout"
        }
      ]
    },
    {
      "cell_type": "code",
      "metadata": {
        "id": "tLlVm6xujK6u"
      },
      "source": [
        ""
      ],
      "execution_count": null,
      "outputs": []
    }
  ]
}