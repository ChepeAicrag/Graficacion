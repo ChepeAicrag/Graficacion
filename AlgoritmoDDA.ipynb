{
  "nbformat": 4,
  "nbformat_minor": 0,
  "metadata": {
    "colab": {
      "name": "AlgoritmoDDA",
      "provenance": [],
      "collapsed_sections": [],
      "authorship_tag": "ABX9TyMYl71rYUbddH/m/CqRVh39",
      "include_colab_link": true
    },
    "kernelspec": {
      "name": "python3",
      "display_name": "Python 3"
    },
    "language_info": {
      "name": "python"
    }
  },
  "cells": [
    {
      "cell_type": "markdown",
      "metadata": {
        "id": "view-in-github",
        "colab_type": "text"
      },
      "source": [
        "<a href=\"https://colab.research.google.com/github/ChepeAicrag12/Graficacion/blob/master/AlgoritmoDDA.ipynb\" target=\"_parent\"><img src=\"https://colab.research.google.com/assets/colab-badge.svg\" alt=\"Open In Colab\"/></a>"
      ]
    },
    {
      "cell_type": "code",
      "metadata": {
        "colab": {
          "base_uri": "https://localhost:8080/"
        },
        "id": "PioISB_ecVAQ",
        "outputId": "705e0d7d-5117-483b-b800-e34d0a1aff57"
      },
      "source": [
        "# Función del algoritmo Analizador Diferencial Digital (DDA)\n",
        "# Considerando: \n",
        "# 1. Que m puede tener cualquiera valor positivo\n",
        "# 2. Que se dibujo de izquierda a derecha\n",
        "\n",
        "def DDA(x0, y0, x1, y1):\n",
        "  dx, dy = x1 - x0, y1 - y0\n",
        "  m = dy / dx\n",
        "  pasos = dx if m < 1 else dy\n",
        "  x, y = x0, y0\n",
        "  x_inc = dx / pasos \n",
        "  y_inc = dy / pasos \n",
        "  print(f'({x}, {y})')\n",
        "  for _ in range(pasos): \n",
        "    x, y = x + x_inc, y + y_inc\n",
        "    print(f'({round(x)}, {round(y)})')\n",
        "\n",
        "# Test \n",
        "\n",
        "DDA(1,5, 5, 5)\n",
        "\n",
        "#DDA(0, 0, 2, 10) \n",
        "\n",
        "#DDA(4, 2, 4, 12)"
      ],
      "execution_count": 35,
      "outputs": [
        {
          "output_type": "stream",
          "text": [
            "(1, 5)\n",
            "(2, 5)\n",
            "(3, 5)\n",
            "(4, 5)\n",
            "(5, 5)\n"
          ],
          "name": "stdout"
        }
      ]
    },
    {
      "cell_type": "code",
      "metadata": {
        "colab": {
          "base_uri": "https://localhost:8080/"
        },
        "id": "tLlVm6xujK6u",
        "outputId": "f204a728-0f18-4437-a3a1-5a48182ab7cd"
      },
      "source": [
        "# Función del algoritmo Analizador Diferencial Digital (DDA)\n",
        "# Considerando que m puede tener valores del intervalo [-1, 1]\n",
        "\n",
        "def DDA(x0, y0, x1, y1):\n",
        "  dx, dy = x1 - x0, y1 - y0\n",
        "  m = dy / dx\n",
        "  x, y = x0, y0 \n",
        "  if m >= -1 and m <= 1:\n",
        "    print(f'({round(x)}, {round(y)})')\n",
        "    while x != x1:\n",
        "      x, y = x + 1, y + m\n",
        "      print(f'({round(x)}, {round(y)})')\n",
        "\n",
        "# Test \n",
        "\n",
        "DDA(1, 5, 5, 5) # m = 5 - 5 / 5 - 1 = 0  -> Cumple con m\n",
        "\n",
        "#DDA(0, 0, 2, 10) # m = 10 - 0 / 2 - 0 = 5 -> No cumple con m\n",
        "\n",
        "#DDA(4, 2, 4, 12) # m = 12 - 2 / 4 - 4 = infinito "
      ],
      "execution_count": 38,
      "outputs": [
        {
          "output_type": "stream",
          "text": [
            "(1, 5)\n",
            "(2, 5)\n",
            "(3, 5)\n",
            "(4, 5)\n",
            "(5, 5)\n"
          ],
          "name": "stdout"
        }
      ]
    },
    {
      "cell_type": "code",
      "metadata": {
        "colab": {
          "base_uri": "https://localhost:8080/"
        },
        "id": "bOkww2LN716S",
        "outputId": "4a708e0e-0305-42dd-eef8-645714b34daa"
      },
      "source": [
        "# Función del algoritmo Analizador Diferencial Digital (DDA)\n",
        "# Considerando que m puede tener cualquiera valor positivo\n",
        "# Considerando cuando m tiende a infinito o no\n",
        "# El ganador o presentado\n",
        "\n",
        "def DDA(x0, y0, x1, y1):\n",
        "  dx, dy = x1 - x0, y1 - y0\n",
        "  m = dy / dx if dx != 0 else 0\n",
        "  pasos = dx if m < 1 else dy\n",
        "  x, y = x0, y0\n",
        "  x_inc = dx / pasos if pasos != 0 else 0\n",
        "  y_inc = dy / pasos if pasos != 0 else 1\n",
        "  print(f'({x}, {y})')\n",
        "  pasos = pasos if pasos != 0 else dy\n",
        "  for _ in range(pasos): \n",
        "    x, y = x + x_inc, y + y_inc\n",
        "    print(f'({round(x)}, {round(y)})')\n",
        "\n",
        "# Test \n",
        "\n",
        "#DDA(1,5, 5, 5)\n",
        "DDA(-1, 0, 1, 4)\n",
        "#DDA(4, 2, 4, 12)"
      ],
      "execution_count": 41,
      "outputs": [
        {
          "output_type": "stream",
          "text": [
            "(-1, 0)\n",
            "(0, 1)\n",
            "(0, 2)\n",
            "(0, 3)\n",
            "(1, 4)\n"
          ],
          "name": "stdout"
        }
      ]
    },
    {
      "cell_type": "code",
      "metadata": {
        "colab": {
          "base_uri": "https://localhost:8080/"
        },
        "id": "xa1HBxQX0gI9",
        "outputId": "be0b6a1d-6d7a-4266-ec4f-5ecbadb2b4dc"
      },
      "source": [
        "# Función del algoritmo Analizador Diferencial Digital (DDA)\n",
        "# Considerando que m puede tener valores del intervalo [-1, 1]\n",
        "# Considerando cuando m tiende a infinito o no\n",
        "\n",
        "def DDA(x0, y0, x1, y1):\n",
        "  dx, dy = x1 - x0, y1 - y0\n",
        "  m = dy / dx if dx != 0 else 0\n",
        "  if m >= -1 and m <= 1:\n",
        "    if dx == 0:\n",
        "      x, y, x1 = y0, x0, y1 \n",
        "    else:\n",
        "      x, y, x1 = x0, y0, x1\n",
        "    imp = f'({round(x)}, {round(y)})' if dx != 0 else f'({round(y)}, {round(x)})'  \n",
        "    print(imp)\n",
        "    while x != x1:\n",
        "      x, y = x + 1, y + m\n",
        "      imp = f'({round(x)}, {round(y)})' if dx != 0 else f'({round(y)}, {round(x)})'\n",
        "      print(imp)\n",
        "\n",
        "\n",
        "# Test \n",
        "\n",
        "#DDA(1, 5, 5, 5)\n",
        "\n",
        "DDA(4, 2, 4, 12)"
      ],
      "execution_count": 34,
      "outputs": [
        {
          "output_type": "stream",
          "text": [
            "(4, 2)\n",
            "(4, 3)\n",
            "(4, 4)\n",
            "(4, 5)\n",
            "(4, 6)\n",
            "(4, 7)\n",
            "(4, 8)\n",
            "(4, 9)\n",
            "(4, 10)\n",
            "(4, 11)\n",
            "(4, 12)\n"
          ],
          "name": "stdout"
        }
      ]
    }
  ]
}