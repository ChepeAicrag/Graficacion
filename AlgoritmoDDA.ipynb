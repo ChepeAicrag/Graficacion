{
  "nbformat": 4,
  "nbformat_minor": 0,
  "metadata": {
    "colab": {
      "name": "AlgoritmoDDA",
      "provenance": [],
      "collapsed_sections": [],
      "authorship_tag": "ABX9TyP1RQ9jKhSQq6CoYiRyCHWq",
      "include_colab_link": true
    },
    "kernelspec": {
      "name": "python3",
      "display_name": "Python 3"
    },
    "language_info": {
      "name": "python"
    }
  },
  "cells": [
    {
      "cell_type": "markdown",
      "metadata": {
        "id": "view-in-github",
        "colab_type": "text"
      },
      "source": [
        "<a href=\"https://colab.research.google.com/github/ChepeAicrag12/Graficacion/blob/master/AlgoritmoDDA.ipynb\" target=\"_parent\"><img src=\"https://colab.research.google.com/assets/colab-badge.svg\" alt=\"Open In Colab\"/></a>"
      ]
    },
    {
      "cell_type": "code",
      "metadata": {
        "id": "iQ9MirykeBpj"
      },
      "source": [
        "import matplotlib as mpl\n",
        "import matplotlib.pyplot as plt\n",
        "plt.style.use('classic')\n",
        "\n",
        "def drawPoint(x, y):\n",
        "  print(f'({x}, {y})')\n",
        "  plt.scatter(x, y)"
      ],
      "execution_count": 17,
      "outputs": []
    },
    {
      "cell_type": "code",
      "metadata": {
        "id": "PioISB_ecVAQ"
      },
      "source": [
        "# Función del algoritmo Analizador Diferencial Digital (DDA)\n",
        "# Considerando: \n",
        "# 1. Que m puede tener cualquiera valor positivo\n",
        "# 2. Que se dibujo de izquierda a derecha\n",
        "\n",
        "def DDA(x0, y0, x1, y1):\n",
        "  dx, dy = x1 - x0, y1 - y0\n",
        "  m = dy / dx\n",
        "  pasos = dx if m < 1 else dy\n",
        "  x, y = x0, y0\n",
        "  x_inc = dx / pasos \n",
        "  y_inc = dy / pasos \n",
        "  print(f'({x}, {y})')\n",
        "  for _ in range(pasos): \n",
        "    x, y = x + x_inc, y + y_inc\n",
        "    print(f'({round(x)}, {round(y)})')\n",
        "\n",
        "# Test \n",
        "\n",
        "DDA(1,5, 5, 5)\n",
        "\n",
        "#DDA(0, 0, 2, 10) \n",
        "\n",
        "#DDA(4, 2, 4, 12)"
      ],
      "execution_count": null,
      "outputs": []
    },
    {
      "cell_type": "code",
      "metadata": {
        "id": "tLlVm6xujK6u"
      },
      "source": [
        "# Función del algoritmo Analizador Diferencial Digital (DDA)\n",
        "# Considerando que m puede tener valores del intervalo [-1, 1]\n",
        "\n",
        "def DDA(x0, y0, x1, y1):\n",
        "  dx, dy = x1 - x0, y1 - y0\n",
        "  m = dy / dx\n",
        "  x, y = x0, y0 \n",
        "  if m >= -1 and m <= 1:\n",
        "    print(f'({round(x)}, {round(y)})')\n",
        "    while x != x1:\n",
        "      x, y = x + 1, y + m\n",
        "      print(f'({round(x)}, {round(y)})')\n",
        "\n",
        "# Test \n",
        "\n",
        "DDA(1, 1, 2, 3) # m = 5 - 5 / 5 - 1 = 0  -> Cumple con m\n",
        "\n",
        "#DDA(0, 0, 2, 10) # m = 10 - 0 / 2 - 0 = 5 -> No cumple con m\n",
        "\n",
        "#DDA(4, 2, 4, 12) # m = 12 - 2 / 4 - 4 = infinito "
      ],
      "execution_count": null,
      "outputs": []
    },
    {
      "cell_type": "code",
      "metadata": {
        "colab": {
          "base_uri": "https://localhost:8080/"
        },
        "id": "bOkww2LN716S",
        "outputId": "47aa38c3-d7f4-4da1-aedd-116f5b20fbd2"
      },
      "source": [
        "# Función del algoritmo Analizador Diferencial Digital (DDA)\n",
        "# Considerando que m puede tener cualquiera valor positivo\n",
        "# Considerando cuando m tiende a infinito o no\n",
        "# El ganador o presentado\n",
        "# Algoritmo más completo\n",
        "\n",
        "def DDA(x0, y0, x1, y1):\n",
        "  dx, dy = x1 - x0, y1 - y0\n",
        "  m = dy / dx if dx != 0 else 0\n",
        "  pasos = dx if abs(m) < 1 else abs(dy)\n",
        "  x, y = x0, y0\n",
        "  x_inc = dx / pasos if pasos != 0 else 0\n",
        "  y_inc = dy / pasos if pasos != 0 else 1\n",
        "  print(f'({x}, {y})')\n",
        "  pasos = pasos if pasos != 0 else dy\n",
        "  \n",
        "  y_inc = y_inc if pasos >= 0 else -1\n",
        "  for _ in range(pasos): \n",
        "    x, y = x + x_inc, y + y_inc\n",
        "    print(f'({round(x)}, {round(y)})')\n",
        "\n",
        "# Test \n",
        "\n",
        "#DDA(1,5, 5, 5)\n",
        "#DDA(4, 2, 4, 12)\n",
        "\n",
        "#DDA(1, 1, 3, 1)\n",
        "#DDA(1, 1, 2, 3)\n",
        "#DDA(2, 3, 3, 1)\n"
      ],
      "execution_count": 16,
      "outputs": [
        {
          "output_type": "stream",
          "text": [
            "(1, 1)\n",
            "(2, 1)\n",
            "(3, 1)\n"
          ],
          "name": "stdout"
        }
      ]
    },
    {
      "cell_type": "code",
      "metadata": {
        "colab": {
          "base_uri": "https://localhost:8080/",
          "height": 508
        },
        "id": "ArzZd1TiVysR",
        "outputId": "1b259bdd-f215-4af4-8a11-72e9a70b8f82"
      },
      "source": [
        "# Algoritmo completo para dibujar una línea recta a partir dos puntos\n",
        "# Considera que la pendiente puede tomar valores positivos, negativos, cero o infinito\n",
        "# Funciona de izquierda a derecha\n",
        "\n",
        "def DDA(x0, y0, x1, y1):\n",
        "  dx, dy = x1 - x0, y1 - y0\n",
        "  m = dy / dx if dx != 0 else 0\n",
        "  if m == 0: \n",
        "    if dx != 0:\n",
        "      pasos = dx  \n",
        "      x_inc, y_inc = 1, 0\n",
        "    else:\n",
        "      pasos = dy\n",
        "      x_inc, y_inc = 0, 1\n",
        "  elif m >= 1:\n",
        "    pasos = dx \n",
        "    x_inc, y_inc = 1, 1\n",
        "  else:\n",
        "    pasos = abs(dy)\n",
        "    x_inc, y_inc = 1, -1\n",
        "  x, y = x0, y0\n",
        "  drawPoint(x, y)\n",
        "  for _ in range(pasos): \n",
        "    x, y = x + x_inc, y + y_inc\n",
        "    drawPoint(round(x), round(y))\n",
        "\n",
        "#DDA(1, 1, 4, 4)\n",
        "#DDA(1, 1, 4, 1)\n",
        "#DDA(1, 1, 1, 4)\n",
        "DDA(1, 4, 4, 1)\n",
        "DDA(1, 4, 4, 1)\n",
        "plt.show()"
      ],
      "execution_count": 26,
      "outputs": [
        {
          "output_type": "stream",
          "text": [
            "(1, 4)\n",
            "(2, 3)\n",
            "(3, 2)\n",
            "(4, 1)\n"
          ],
          "name": "stdout"
        },
        {
          "output_type": "display_data",
          "data": {
            "image/png": "[encoded data removed]",
            "text/plain": [
              "<Figure size 640x480 with 1 Axes>"
            ]
          },
          "metadata": {
            "tags": []
          }
        }
      ]
    },
    {
      "cell_type": "code",
      "metadata": {
        "id": "xa1HBxQX0gI9"
      },
      "source": [
        "# Función del algoritmo Analizador Diferencial Digital (DDA)\n",
        "# Considerando que m puede tener valores del intervalo [-1, 1]\n",
        "# Considerando cuando m tiende a infinito o no\n",
        "\n",
        "def DDA(x0, y0, x1, y1):\n",
        "  dx, dy = x1 - x0, y1 - y0\n",
        "  m = dy / dx if dx != 0 else 0\n",
        "  if m >= -1 and m <= 1:\n",
        "    if dx == 0:\n",
        "      x, y, x1 = y0, x0, y1 \n",
        "    else:\n",
        "      x, y, x1 = x0, y0, x1\n",
        "    imp = f'({round(x)}, {round(y)})' if dx != 0 else f'({round(y)}, {round(x)})'  \n",
        "    print(imp)\n",
        "    while x != x1:\n",
        "      x, y = x + 1, y + m\n",
        "      imp = f'({round(x)}, {round(y)})' if dx != 0 else f'({round(y)}, {round(x)})'\n",
        "      print(imp)\n",
        "\n",
        "\n",
        "# Test \n",
        "\n",
        "#DDA(1, 5, 5, 5)\n",
        "\n",
        "DDA(4, 2, 4, 12)"
      ],
      "execution_count": null,
      "outputs": []
    }
  ]
}