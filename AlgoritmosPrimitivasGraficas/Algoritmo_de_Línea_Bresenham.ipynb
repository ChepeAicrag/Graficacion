{
  "nbformat": 4,
  "nbformat_minor": 0,
  "metadata": {
    "colab": {
      "name": " Algoritmo de Línea Bresenham.ipynb",
      "provenance": [],
      "collapsed_sections": [],
      "authorship_tag": "ABX9TyNtFfFWNPKrWnEb2XckrEm5",
      "include_colab_link": true
    },
    "kernelspec": {
      "name": "python3",
      "display_name": "Python 3"
    },
    "language_info": {
      "name": "python"
    }
  },
  "cells": [
    {
      "cell_type": "markdown",
      "metadata": {
        "id": "view-in-github",
        "colab_type": "text"
      },
      "source": [
        "<a href=\"https://colab.research.google.com/github/ChepeAicrag12/Graficacion/blob/master/Algoritmo_de_L%C3%ADnea_Bresenham.ipynb\" target=\"_parent\"><img src=\"https://colab.research.google.com/assets/colab-badge.svg\" alt=\"Open In Colab\"/></a>"
      ]
    },
    {
      "cell_type": "code",
      "metadata": {
        "colab": {
          "base_uri": "https://localhost:8080/"
        },
        "id": "2Wzdbup5b2AH",
        "outputId": "65f90b78-9d4f-4b47-c4e8-2d1b3e8a84a4"
      },
      "source": [
        "# Función para la obtención de los puntos de una recta, mediante el algoritmo de Bresenhman\n",
        "# Donde: \n",
        "#         (x0, y0): punto inicial\n",
        "#         (x1, y1): punto final\n",
        "\n",
        "def line_bresenham(x0, y0, x1, y1):\n",
        "  dx, dy = x1 - x0, y1 - y0\n",
        "  inc_E = 2 * dy # 2dy\n",
        "  inc_NE = inc_E - 2 * dx # 2dy - 2dx\n",
        "  p = inc_E - dx # 2dy - dx\n",
        "  x, y = x0, y0\n",
        "  print(f'({x}, {y})')\n",
        "  for _ in range(dx):\n",
        "    x, y = x + 1, y if p < 0 else y + 1\n",
        "    print(f'({x}, {y})')\n",
        "    p = p + inc_E if p < 0 else p + inc_NE\n",
        "\n",
        "#line_bresenham(20, 10, 30, 18)\n",
        "line_bresenham(1, 1, 7, 3)"
      ],
      "execution_count": null,
      "outputs": [
        {
          "output_type": "stream",
          "text": [
            "(1, 1)\n",
            "(2, 1)\n",
            "(3, 2)\n",
            "(4, 2)\n",
            "(5, 2)\n",
            "(6, 3)\n",
            "(7, 3)\n"
          ],
          "name": "stdout"
        }
      ]
    },
    {
      "cell_type": "code",
      "execution_count": null,
      "metadata": {},
      "outputs": [],
      "source": [
        " def line(x1,y1,x2,y2):\n",
        "\n",
        "    a = (y2-y1)/(x2-x1)\n",
        "    x0 = x1\n",
        "    #y = y1\n",
        "    for x in range ((x2-x1)+1):\n",
        "\n",
        "    y = (y1 + a * (x0 - x1))\n",
        "    print(x0,round(y))\n",
        "    x0 = x0 + 1 \n",
        "     x0 = int(input('ingresa un valor para x1\\n'))\n",
        "    y0 = int(input('ingresa un valor para y1\\n'))\n",
        "    x1 = int(input('ingresa un valor para x2\\n'))\n",
        "    y1 = int(input('ingresa un valor para y2\\n'))\n",
        "\n",
        "line(x0,y0,x1,y1"
      ]
    }
  ]
}