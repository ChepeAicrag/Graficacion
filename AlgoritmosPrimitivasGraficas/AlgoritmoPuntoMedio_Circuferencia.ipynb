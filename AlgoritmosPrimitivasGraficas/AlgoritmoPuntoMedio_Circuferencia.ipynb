{
  "nbformat": 4,
  "nbformat_minor": 0,
  "metadata": {
    "colab": {
      "name": "AlgoritmoPuntoMedio_Circuferencia.ipynb",
      "provenance": [],
      "authorship_tag": "ABX9TyPUGbkbk/wrtNpXLwswlLHl",
      "include_colab_link": true
    },
    "kernelspec": {
      "name": "python3",
      "display_name": "Python 3"
    },
    "language_info": {
      "name": "python"
    }
  },
  "cells": [
    {
      "cell_type": "markdown",
      "metadata": {
        "id": "view-in-github",
        "colab_type": "text"
      },
      "source": [
        "<a href=\"https://colab.research.google.com/github/ChepeAicrag12/Graficacion/blob/master/AlgoritmoPuntoMedio_Circuferencia.ipynb\" target=\"_parent\"><img src=\"https://colab.research.google.com/assets/colab-badge.svg\" alt=\"Open In Colab\"/></a>"
      ]
    },
    {
      "cell_type": "code",
      "metadata": {
        "id": "djKWyq4Dlg6j"
      },
      "source": [
        "import matplotlib as mpl\n",
        "import matplotlib.pyplot as plt\n",
        "plt.style.use('classic')"
      ],
      "execution_count": null,
      "outputs": []
    },
    {
      "cell_type": "code",
      "metadata": {
        "id": "bGtwBiN_lBb2"
      },
      "source": [
        "# Función para mostrar los puntos en grafica\n",
        "\n",
        "def drawPoint(x, y):\n",
        "  print(f'({x}, {y})')\n",
        "  plt.scatter(x, y)\n",
        "  print(f'({y}, {x})')\n",
        "  plt.scatter(y, x)\n",
        "  print(f'({y}, {-x})')\n",
        "  plt.scatter(y, -x)\n",
        "  print(f'({x}, {-y})')\n",
        "  plt.scatter(x, -y)\n",
        "  print(f'({-x}, {-y})')\n",
        "  plt.scatter(-x, -y)\n",
        "  print(f'({-y}, {-x})')\n",
        "  plt.scatter(-y, -x)\n",
        "  print(f'({-x}, {y})')\n",
        "  plt.scatter(-x, y)\n",
        "  print(f'({-y}, {x})')\n",
        "  plt.scatter(-y, x)"
      ],
      "execution_count": 26,
      "outputs": []
    },
    {
      "cell_type": "code",
      "metadata": {
        "id": "yXU7_kESmPtY"
      },
      "source": [
        "# Función para mostrar los puntos en grafica considerando el punto centro\n",
        "\n",
        "def drawPointCenter(x, y, xc, yc):\n",
        "  plt.scatter(xc, yc)\n",
        "  print(f'({xc + x}, {yc + y})')\n",
        "  plt.scatter(xc + x, yc + y)\n",
        "  print(f'({xc + y}, {yc + x})')\n",
        "  plt.scatter(xc + y, yc + x)\n",
        "  print(f'({xc + y}, {yc - x})')\n",
        "  plt.scatter(xc + y, yc - x)\n",
        "  print(f'({xc + x}, {yc - y})')\n",
        "  plt.scatter(xc + x, yc - y)\n",
        "  print(f'({xc - x}, {yc - y})')\n",
        "  plt.scatter(xc - x, yc - y)\n",
        "  print(f'({xc - y}, {yc - x})')\n",
        "  plt.scatter(xc - y, yc - x)\n",
        "  print(f'({xc - x}, {yc + y})')\n",
        "  plt.scatter(xc - x, yc + y)\n",
        "  print(f'({xc - y}, {yc + x})')\n",
        "  plt.scatter(xc - y, yc + x)"
      ],
      "execution_count": 27,
      "outputs": []
    },
    {
      "cell_type": "code",
      "metadata": {
        "colab": {
          "base_uri": "https://localhost:8080/",
          "height": 1000
        },
        "id": "Ki8ACob6-1v5",
        "outputId": "18d1694b-84a6-407c-9952-00e1cfc01ffc"
      },
      "source": [
        " # Algoritmo visto en clase\n",
        " \n",
        "def drawCircunferencia(xc, yc, r):\n",
        "  x, y = 0, r\n",
        "  #p = 5/4 - r\n",
        "  p = 1 - r\n",
        "  drawPoint(x, y)\n",
        "  while y > x:\n",
        "    x, y = x + 1, y if p < 0 else y - 1 \n",
        "    aux = p + 2 * x # x = xk+1\n",
        "    p = aux + 1 if p < 0 else aux - 2 * (y + 1) # y = yk || y = yk - 1\n",
        "    drawPoint(x, y)\n",
        "\n",
        "drawCircunferencia(3, 3, 10)\n",
        "plt.show()"
      ],
      "execution_count": 28,
      "outputs": [
        {
          "output_type": "stream",
          "text": [
            "(0, 10)\n",
            "(10, 0)\n",
            "(10, 0)\n",
            "(0, -10)\n",
            "(0, -10)\n",
            "(-10, 0)\n",
            "(0, 10)\n",
            "(-10, 0)\n",
            "(1, 10)\n",
            "(10, 1)\n",
            "(10, -1)\n",
            "(1, -10)\n",
            "(-1, -10)\n",
            "(-10, -1)\n",
            "(-1, 10)\n",
            "(-10, 1)\n",
            "(2, 10)\n",
            "(10, 2)\n",
            "(10, -2)\n",
            "(2, -10)\n",
            "(-2, -10)\n",
            "(-10, -2)\n",
            "(-2, 10)\n",
            "(-10, 2)\n",
            "(3, 10)\n",
            "(10, 3)\n",
            "(10, -3)\n",
            "(3, -10)\n",
            "(-3, -10)\n",
            "(-10, -3)\n",
            "(-3, 10)\n",
            "(-10, 3)\n",
            "(4, 9)\n",
            "(9, 4)\n",
            "(9, -4)\n",
            "(4, -9)\n",
            "(-4, -9)\n",
            "(-9, -4)\n",
            "(-4, 9)\n",
            "(-9, 4)\n",
            "(5, 9)\n",
            "(9, 5)\n",
            "(9, -5)\n",
            "(5, -9)\n",
            "(-5, -9)\n",
            "(-9, -5)\n",
            "(-5, 9)\n",
            "(-9, 5)\n",
            "(6, 8)\n",
            "(8, 6)\n",
            "(8, -6)\n",
            "(6, -8)\n",
            "(-6, -8)\n",
            "(-8, -6)\n",
            "(-6, 8)\n",
            "(-8, 6)\n",
            "(7, 8)\n",
            "(8, 7)\n",
            "(8, -7)\n",
            "(7, -8)\n",
            "(-7, -8)\n",
            "(-8, -7)\n",
            "(-7, 8)\n",
            "(-8, 7)\n",
            "(8, 7)\n",
            "(7, 8)\n",
            "(7, -8)\n",
            "(8, -7)\n",
            "(-8, -7)\n",
            "(-7, -8)\n",
            "(-8, 7)\n",
            "(-7, 8)\n"
          ],
          "name": "stdout"
        },
        {
          "output_type": "display_data",
          "data": {
            "image/png": "[encoded data removed]",
            "text/plain": [
              "<Figure size 640x480 with 1 Axes>"
            ]
          },
          "metadata": {
            "tags": []
          }
        }
      ]
    },
    {
      "cell_type": "code",
      "metadata": {
        "colab": {
          "base_uri": "https://localhost:8080/",
          "height": 1000
        },
        "id": "XKzJmS5tl1fQ",
        "outputId": "e75bf484-f5cc-4262-d6d1-46b23d167763"
      },
      "source": [
        "# Algoritmo mejorado al trabajar con valores enteros\n",
        "def drawCircunferencia(xc, yc, r):\n",
        "  x, y = 0, r\n",
        "  #p = 5/4 - r\n",
        "  p = 1 - r\n",
        "  drawPoint(x, y)\n",
        "  while y > x:\n",
        "    x, y = x + 1, y if p < 0 else y - 1 \n",
        "    aux = p + 2 * x # x = xk+1\n",
        "    p = aux + 1 if p < 0 else aux - 2 * (y + 1) # y = yk || y = yk - 1\n",
        "    drawPoint(x, y)\n",
        "\n",
        "drawCircunferencia(3, 3, 10)\n",
        "plt.show()"
      ],
      "execution_count": 29,
      "outputs": [
        {
          "output_type": "stream",
          "text": [
            "(0, 10)\n",
            "(10, 0)\n",
            "(10, 0)\n",
            "(0, -10)\n",
            "(0, -10)\n",
            "(-10, 0)\n",
            "(0, 10)\n",
            "(-10, 0)\n",
            "(1, 10)\n",
            "(10, 1)\n",
            "(10, -1)\n",
            "(1, -10)\n",
            "(-1, -10)\n",
            "(-10, -1)\n",
            "(-1, 10)\n",
            "(-10, 1)\n",
            "(2, 10)\n",
            "(10, 2)\n",
            "(10, -2)\n",
            "(2, -10)\n",
            "(-2, -10)\n",
            "(-10, -2)\n",
            "(-2, 10)\n",
            "(-10, 2)\n",
            "(3, 10)\n",
            "(10, 3)\n",
            "(10, -3)\n",
            "(3, -10)\n",
            "(-3, -10)\n",
            "(-10, -3)\n",
            "(-3, 10)\n",
            "(-10, 3)\n",
            "(4, 9)\n",
            "(9, 4)\n",
            "(9, -4)\n",
            "(4, -9)\n",
            "(-4, -9)\n",
            "(-9, -4)\n",
            "(-4, 9)\n",
            "(-9, 4)\n",
            "(5, 9)\n",
            "(9, 5)\n",
            "(9, -5)\n",
            "(5, -9)\n",
            "(-5, -9)\n",
            "(-9, -5)\n",
            "(-5, 9)\n",
            "(-9, 5)\n",
            "(6, 8)\n",
            "(8, 6)\n",
            "(8, -6)\n",
            "(6, -8)\n",
            "(-6, -8)\n",
            "(-8, -6)\n",
            "(-6, 8)\n",
            "(-8, 6)\n",
            "(7, 8)\n",
            "(8, 7)\n",
            "(8, -7)\n",
            "(7, -8)\n",
            "(-7, -8)\n",
            "(-8, -7)\n",
            "(-7, 8)\n",
            "(-8, 7)\n",
            "(8, 7)\n",
            "(7, 8)\n",
            "(7, -8)\n",
            "(8, -7)\n",
            "(-8, -7)\n",
            "(-7, -8)\n",
            "(-8, 7)\n",
            "(-7, 8)\n"
          ],
          "name": "stdout"
        },
        {
          "output_type": "display_data",
          "data": {
            "image/png": "[encoded data removed]",
            "text/plain": [
              "<Figure size 640x480 with 1 Axes>"
            ]
          },
          "metadata": {
            "tags": []
          }
        }
      ]
    },
    {
      "cell_type": "code",
      "metadata": {
        "colab": {
          "base_uri": "https://localhost:8080/",
          "height": 1000
        },
        "id": "IOxKVzIVjD5D",
        "outputId": "3aed05c5-55a7-45f5-fd07-12ec1dcaf8c3"
      },
      "source": [
        " # Utilizando operaciones con números enteros\n",
        " # Más rápido en tiempo de ejecución que el anterior\n",
        " # Considerando el centro fuera del origen\n",
        "def drawCircunferencia(xc, yc, r):\n",
        "  x, y = 0, r\n",
        "  p = 1 - r\n",
        "  inc_E = 3\n",
        "  inc_SE = 5 - 2 * r\n",
        "  drawPointCenter(x, y, xc, yc)\n",
        "  while y > x:\n",
        "    x = x + 1\n",
        "    if p < 0 :\n",
        "      p = p + inc_E \n",
        "      inc_E, inc_SE = inc_E + 2, inc_SE + 2\n",
        "    else:   \n",
        "      p = p + inc_SE\n",
        "      inc_E, inc_SE = inc_E + 2, inc_SE + 4\n",
        "      y = y - 1\n",
        "    drawPointCenter(x, y, xc, yc)\n",
        "\n",
        "drawCircunferencia(3, 3, 10)\n",
        "plt.show()"
      ],
      "execution_count": 30,
      "outputs": [
        {
          "output_type": "stream",
          "text": [
            "(3, 13)\n",
            "(13, 3)\n",
            "(13, 3)\n",
            "(3, -7)\n",
            "(3, -7)\n",
            "(-7, 3)\n",
            "(3, 13)\n",
            "(-7, 3)\n",
            "(4, 13)\n",
            "(13, 4)\n",
            "(13, 2)\n",
            "(4, -7)\n",
            "(2, -7)\n",
            "(-7, 2)\n",
            "(2, 13)\n",
            "(-7, 4)\n",
            "(5, 13)\n",
            "(13, 5)\n",
            "(13, 1)\n",
            "(5, -7)\n",
            "(1, -7)\n",
            "(-7, 1)\n",
            "(1, 13)\n",
            "(-7, 5)\n",
            "(6, 13)\n",
            "(13, 6)\n",
            "(13, 0)\n",
            "(6, -7)\n",
            "(0, -7)\n",
            "(-7, 0)\n",
            "(0, 13)\n",
            "(-7, 6)\n",
            "(7, 12)\n",
            "(12, 7)\n",
            "(12, -1)\n",
            "(7, -6)\n",
            "(-1, -6)\n",
            "(-6, -1)\n",
            "(-1, 12)\n",
            "(-6, 7)\n",
            "(8, 12)\n",
            "(12, 8)\n",
            "(12, -2)\n",
            "(8, -6)\n",
            "(-2, -6)\n",
            "(-6, -2)\n",
            "(-2, 12)\n",
            "(-6, 8)\n",
            "(9, 11)\n",
            "(11, 9)\n",
            "(11, -3)\n",
            "(9, -5)\n",
            "(-3, -5)\n",
            "(-5, -3)\n",
            "(-3, 11)\n",
            "(-5, 9)\n",
            "(10, 10)\n",
            "(10, 10)\n",
            "(10, -4)\n",
            "(10, -4)\n",
            "(-4, -4)\n",
            "(-4, -4)\n",
            "(-4, 10)\n",
            "(-4, 10)\n"
          ],
          "name": "stdout"
        },
        {
          "output_type": "display_data",
          "data": {
            "image/png": "[encoded data removed]",
            "text/plain": [
              "<Figure size 640x480 with 1 Axes>"
            ]
          },
          "metadata": {
            "tags": []
          }
        }
      ]
    }
  ]
}