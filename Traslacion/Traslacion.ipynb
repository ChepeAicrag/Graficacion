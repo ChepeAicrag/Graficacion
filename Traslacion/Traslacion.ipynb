{
 "metadata": {
  "language_info": {
   "codemirror_mode": {
    "name": "ipython",
    "version": 3
   },
   "file_extension": ".py",
   "mimetype": "text/x-python",
   "name": "python",
   "nbconvert_exporter": "python",
   "pygments_lexer": "ipython3",
   "version": "3.9.4"
  },
  "orig_nbformat": 2,
  "kernelspec": {
   "name": "python394jvsc74a57bd0e7370f93d1d0cde622a1f8e1c04877d8463912d04d973331ad4851f04de6915a",
   "display_name": "Python 3.9.4 64-bit"
  },
  "metadata": {
   "interpreter": {
    "hash": "e7370f93d1d0cde622a1f8e1c04877d8463912d04d973331ad4851f04de6915a"
   }
  }
 },
 "nbformat": 4,
 "nbformat_minor": 2,
 "cells": [
  {
   "cell_type": "code",
   "execution_count": 3,
   "metadata": {},
   "outputs": [],
   "source": [
    "import matplotlib as mpl\n",
    "import matplotlib.pyplot as plt\n",
    "plt.style.use('classic')\n",
    "\n",
    "def drawPoint(x, y):\n",
    "  print(f'({x}, {y})')\n",
    "  plt.scatter(x, y)"
   ]
  },
  {
   "cell_type": "code",
   "execution_count": 14,
   "metadata": {},
   "outputs": [],
   "source": [
    "# Algoritmo completo para dibujar una línea recta a partir dos puntos\n",
    "# Basado en el algoritmo DDA\n",
    "# Considera que la pendiente puede tomar valores positivos, negativos, cero o infinito\n",
    "# Funciona de izquierda a derecha o de derecha a izquierda\n",
    "\n",
    "def DDA(p1, p2, T = ()):\n",
    "  x0, y0 = p1\n",
    "  x1, y1 = p2\n",
    "  flag = False \n",
    "  if x0 > x1 or (y0 > y1 and x0 == x1): \n",
    "      x_tmp,y_tmp = x0, y0\n",
    "      x0, y0, x1, y1, flag = x1, y1, x_tmp, y_tmp, True\n",
    "  dx, dy = x1 - x0, y1 - y0  \n",
    "  x, y = x0, y0\n",
    "  if flag: dx, dy, x, y = - dx, - dy, x1, y1\n",
    "  m = dy / dx if dx != 0 else 0\n",
    "  pasos = abs(dy) if abs(dy) > abs(dx) else abs(dx)\n",
    "  x_inc = dx / pasos if pasos != 0 else 0\n",
    "  y_inc = dy / pasos if pasos != 0 else 1\n",
    "  xt, yt = T\n",
    "  drawPoint(x, y)\n",
    "  drawPoint(x + xt, y + yt)\n",
    "  if (x0 < 0 or x1 < 0) and x_inc < 1:\n",
    "    x_inc = x_inc + 0.1 \n",
    "  for _ in range(pasos): \n",
    "    x, y = round(x + x_inc), round(y + y_inc)\n",
    "    drawPoint(x, y)\n",
    "    drawPoint(x + xt, y + yt)\n",
    "\n",
    "# De izquierda a derecha\n",
    "#DDA(1, 1, 4, 4)\n",
    "#DDA(1, 1, 4, 1)\n",
    "#DDA(1, 1, 1, 4)\n",
    "#DDA(1, 4, 4, 1)\n",
    "\n",
    "# De derecha a izquierda\n",
    "#DDA((1,4), (1, 1))\n",
    "#DDA((4, 1), (1, 4))\n",
    "#DDA(4, 1, 1, 1)\n",
    "#DDA((4, 4), (1, 1))\n",
    "\n",
    "# Test traslacion\n",
    "#DDA((2,3), (3,1))\n",
    "#plt.show()"
   ]
  },
  {
   "cell_type": "code",
   "execution_count": 16,
   "metadata": {},
   "outputs": [
    {
     "output_type": "stream",
     "name": "stdout",
     "text": [
      "T =  (-3, -2)\n",
      "(1, 1) (1, 1)\n",
      "(1, 1)\n",
      "(-2, -1)\n",
      "(1, 1) (2, 3)\n",
      "(1, 1)\n",
      "(-2, -1)\n",
      "(2, 2)\n",
      "(-1, 0)\n",
      "(2, 3)\n",
      "(-1, 1)\n",
      "(1, 1) (3, 1)\n",
      "(1, 1)\n",
      "(-2, -1)\n",
      "(2, 1)\n",
      "(-1, -1)\n",
      "(3, 1)\n",
      "(0, -1)\n",
      "(2, 3) (2, 3)\n",
      "(2, 3)\n",
      "(-1, 1)\n",
      "(2, 3) (3, 1)\n",
      "(2, 3)\n",
      "(-1, 1)\n",
      "(2, 2)\n",
      "(-1, 0)\n",
      "(2, 1)\n",
      "(-1, -1)\n",
      "(3, 1) (3, 1)\n",
      "(3, 1)\n",
      "(0, -1)\n"
     ]
    },
    {
     "output_type": "display_data",
     "data": {
      "text/plain": "<Figure size 640x480 with 1 Axes>",
      "image/svg+xml": "<?xml version=\"1.0\" encoding=\"utf-8\" standalone=\"no\"?>\n<!DOCTYPE svg PUBLIC \"-//W3C//DTD SVG 1.1//EN\"\n  \"http://www.w3.org/Graphics/SVG/1.1/DTD/svg11.dtd\">\n<svg height=\"381.420625pt\" version=\"1.1\" viewBox=\"0 0 486.308125 381.420625\" width=\"486.308125pt\" xmlns=\"http://www.w3.org/2000/svg\" xmlns:xlink=\"http://www.w3.org/1999/xlink\">\n <metadata>\n  <rdf:RDF xmlns:cc=\"http://creativecommons.org/ns#\" xmlns:dc=\"http://purl.org/dc/elements/1.1/\" xmlns:rdf=\"http://www.w3.org/1999/02/22-rdf-syntax-ns#\">\n   <cc:Work>\n    <dc:type rdf:resource=\"http://purl.org/dc/dcmitype/StillImage\"/>\n    <dc:date>2021-05-04T17:53:27.756203</dc:date>\n    <dc:format>image/svg+xml</dc:format>\n    <dc:creator>\n     <cc:Agent>\n      <dc:title>Matplotlib v3.4.1, https://matplotlib.org/</dc:title>\n     </cc:Agent>\n    </dc:creator>\n   </cc:Work>\n  </rdf:RDF>\n </metadata>\n <defs>\n  <style type=\"text/css\">*{stroke-linecap:butt;stroke-linejoin:round;}</style>\n </defs>\n <g id=\"figure_1\">\n  <g id=\"patch_1\">\n   <path d=\"M 0 381.420625 \nL 486.308125 381.420625 \nL 486.308125 0 \nL 0 0 \nz\n\" style=\"fill:#bfbfbf;\"/>\n  </g>\n  <g id=\"axes_1\">\n   <g id=\"patch_2\">\n    <path d=\"M 28.890625 358.606875 \nL 475.290625 358.606875 \nL 475.290625 13.006875 \nL 28.890625 13.006875 \nz\n\" style=\"fill:#ffffff;\"/>\n   </g>\n   <g id=\"PathCollection_1\">\n    <defs>\n     <path d=\"M 0 2.236068 \nC 0.593012 2.236068 1.161816 2.000462 1.581139 1.581139 \nC 2.000462 1.161816 2.236068 0.593012 2.236068 0 \nC 2.236068 -0.593012 2.000462 -1.161816 1.581139 -1.581139 \nC 1.161816 -2.000462 0.593012 -2.236068 0 -2.236068 \nC -0.593012 -2.236068 -1.161816 -2.000462 -1.581139 -1.581139 \nC -2.000462 -1.161816 -2.236068 -0.593012 -2.236068 0 \nC -2.236068 0.593012 -2.000462 1.161816 -1.581139 1.581139 \nC -1.161816 2.000462 -0.593012 2.236068 0 2.236068 \nz\n\" id=\"m371198aed9\" style=\"stroke:#000000;\"/>\n    </defs>\n    <g clip-path=\"url(#p6b4baadcb9)\">\n     <use style=\"fill:#0000ff;stroke:#000000;\" x=\"283.976339\" xlink:href=\"#m371198aed9\" y=\"185.806875\"/>\n    </g>\n   </g>\n   <g id=\"PathCollection_2\">\n    <g clip-path=\"url(#p6b4baadcb9)\">\n     <use style=\"fill:#0000ff;stroke:#000000;\" x=\"92.662054\" xlink:href=\"#m371198aed9\" y=\"301.006875\"/>\n    </g>\n   </g>\n   <g id=\"PathCollection_3\">\n    <g clip-path=\"url(#p6b4baadcb9)\">\n     <use style=\"fill:#0000ff;stroke:#000000;\" x=\"283.976339\" xlink:href=\"#m371198aed9\" y=\"185.806875\"/>\n    </g>\n   </g>\n   <g id=\"PathCollection_4\">\n    <g clip-path=\"url(#p6b4baadcb9)\">\n     <use style=\"fill:#0000ff;stroke:#000000;\" x=\"92.662054\" xlink:href=\"#m371198aed9\" y=\"301.006875\"/>\n    </g>\n   </g>\n   <g id=\"PathCollection_5\">\n    <g clip-path=\"url(#p6b4baadcb9)\">\n     <use style=\"fill:#0000ff;stroke:#000000;\" x=\"347.747768\" xlink:href=\"#m371198aed9\" y=\"128.206875\"/>\n    </g>\n   </g>\n   <g id=\"PathCollection_6\">\n    <g clip-path=\"url(#p6b4baadcb9)\">\n     <use style=\"fill:#0000ff;stroke:#000000;\" x=\"156.433482\" xlink:href=\"#m371198aed9\" y=\"243.406875\"/>\n    </g>\n   </g>\n   <g id=\"PathCollection_7\">\n    <g clip-path=\"url(#p6b4baadcb9)\">\n     <use style=\"fill:#0000ff;stroke:#000000;\" x=\"347.747768\" xlink:href=\"#m371198aed9\" y=\"70.606875\"/>\n    </g>\n   </g>\n   <g id=\"PathCollection_8\">\n    <g clip-path=\"url(#p6b4baadcb9)\">\n     <use style=\"fill:#0000ff;stroke:#000000;\" x=\"156.433482\" xlink:href=\"#m371198aed9\" y=\"185.806875\"/>\n    </g>\n   </g>\n   <g id=\"PathCollection_9\">\n    <g clip-path=\"url(#p6b4baadcb9)\">\n     <use style=\"fill:#0000ff;stroke:#000000;\" x=\"283.976339\" xlink:href=\"#m371198aed9\" y=\"185.806875\"/>\n    </g>\n   </g>\n   <g id=\"PathCollection_10\">\n    <g clip-path=\"url(#p6b4baadcb9)\">\n     <use style=\"fill:#0000ff;stroke:#000000;\" x=\"92.662054\" xlink:href=\"#m371198aed9\" y=\"301.006875\"/>\n    </g>\n   </g>\n   <g id=\"PathCollection_11\">\n    <g clip-path=\"url(#p6b4baadcb9)\">\n     <use style=\"fill:#0000ff;stroke:#000000;\" x=\"347.747768\" xlink:href=\"#m371198aed9\" y=\"185.806875\"/>\n    </g>\n   </g>\n   <g id=\"PathCollection_12\">\n    <g clip-path=\"url(#p6b4baadcb9)\">\n     <use style=\"fill:#0000ff;stroke:#000000;\" x=\"156.433482\" xlink:href=\"#m371198aed9\" y=\"301.006875\"/>\n    </g>\n   </g>\n   <g id=\"PathCollection_13\">\n    <g clip-path=\"url(#p6b4baadcb9)\">\n     <use style=\"fill:#0000ff;stroke:#000000;\" x=\"411.519196\" xlink:href=\"#m371198aed9\" y=\"185.806875\"/>\n    </g>\n   </g>\n   <g id=\"PathCollection_14\">\n    <g clip-path=\"url(#p6b4baadcb9)\">\n     <use style=\"fill:#0000ff;stroke:#000000;\" x=\"220.204911\" xlink:href=\"#m371198aed9\" y=\"301.006875\"/>\n    </g>\n   </g>\n   <g id=\"PathCollection_15\">\n    <g clip-path=\"url(#p6b4baadcb9)\">\n     <use style=\"fill:#0000ff;stroke:#000000;\" x=\"347.747768\" xlink:href=\"#m371198aed9\" y=\"70.606875\"/>\n    </g>\n   </g>\n   <g id=\"PathCollection_16\">\n    <g clip-path=\"url(#p6b4baadcb9)\">\n     <use style=\"fill:#0000ff;stroke:#000000;\" x=\"156.433482\" xlink:href=\"#m371198aed9\" y=\"185.806875\"/>\n    </g>\n   </g>\n   <g id=\"PathCollection_17\">\n    <g clip-path=\"url(#p6b4baadcb9)\">\n     <use style=\"fill:#0000ff;stroke:#000000;\" x=\"347.747768\" xlink:href=\"#m371198aed9\" y=\"70.606875\"/>\n    </g>\n   </g>\n   <g id=\"PathCollection_18\">\n    <g clip-path=\"url(#p6b4baadcb9)\">\n     <use style=\"fill:#0000ff;stroke:#000000;\" x=\"156.433482\" xlink:href=\"#m371198aed9\" y=\"185.806875\"/>\n    </g>\n   </g>\n   <g id=\"PathCollection_19\">\n    <g clip-path=\"url(#p6b4baadcb9)\">\n     <use style=\"fill:#0000ff;stroke:#000000;\" x=\"347.747768\" xlink:href=\"#m371198aed9\" y=\"128.206875\"/>\n    </g>\n   </g>\n   <g id=\"PathCollection_20\">\n    <g clip-path=\"url(#p6b4baadcb9)\">\n     <use style=\"fill:#0000ff;stroke:#000000;\" x=\"156.433482\" xlink:href=\"#m371198aed9\" y=\"243.406875\"/>\n    </g>\n   </g>\n   <g id=\"PathCollection_21\">\n    <g clip-path=\"url(#p6b4baadcb9)\">\n     <use style=\"fill:#0000ff;stroke:#000000;\" x=\"347.747768\" xlink:href=\"#m371198aed9\" y=\"185.806875\"/>\n    </g>\n   </g>\n   <g id=\"PathCollection_22\">\n    <g clip-path=\"url(#p6b4baadcb9)\">\n     <use style=\"fill:#0000ff;stroke:#000000;\" x=\"156.433482\" xlink:href=\"#m371198aed9\" y=\"301.006875\"/>\n    </g>\n   </g>\n   <g id=\"PathCollection_23\">\n    <g clip-path=\"url(#p6b4baadcb9)\">\n     <use style=\"fill:#0000ff;stroke:#000000;\" x=\"411.519196\" xlink:href=\"#m371198aed9\" y=\"185.806875\"/>\n    </g>\n   </g>\n   <g id=\"PathCollection_24\">\n    <g clip-path=\"url(#p6b4baadcb9)\">\n     <use style=\"fill:#0000ff;stroke:#000000;\" x=\"220.204911\" xlink:href=\"#m371198aed9\" y=\"301.006875\"/>\n    </g>\n   </g>\n   <g id=\"patch_3\">\n    <path d=\"M 28.890625 358.606875 \nL 28.890625 13.006875 \n\" style=\"fill:none;stroke:#000000;stroke-linecap:square;stroke-linejoin:miter;\"/>\n   </g>\n   <g id=\"patch_4\">\n    <path d=\"M 475.290625 358.606875 \nL 475.290625 13.006875 \n\" style=\"fill:none;stroke:#000000;stroke-linecap:square;stroke-linejoin:miter;\"/>\n   </g>\n   <g id=\"patch_5\">\n    <path d=\"M 28.890625 358.606875 \nL 475.290625 358.606875 \n\" style=\"fill:none;stroke:#000000;stroke-linecap:square;stroke-linejoin:miter;\"/>\n   </g>\n   <g id=\"patch_6\">\n    <path d=\"M 28.890625 13.006875 \nL 475.290625 13.006875 \n\" style=\"fill:none;stroke:#000000;stroke-linecap:square;stroke-linejoin:miter;\"/>\n   </g>\n   <g id=\"matplotlib.axis_1\">\n    <g id=\"xtick_1\">\n     <g id=\"line2d_1\">\n      <defs>\n       <path d=\"M 0 0 \nL 0 -4 \n\" id=\"me40121ccd4\" style=\"stroke:#000000;stroke-width:0.5;\"/>\n      </defs>\n      <g>\n       <use style=\"stroke:#000000;stroke-width:0.5;\" x=\"28.890625\" xlink:href=\"#me40121ccd4\" y=\"358.606875\"/>\n      </g>\n     </g>\n     <g id=\"line2d_2\">\n      <defs>\n       <path d=\"M 0 0 \nL 0 4 \n\" id=\"m2931bc4ac1\" style=\"stroke:#000000;stroke-width:0.5;\"/>\n      </defs>\n      <g>\n       <use style=\"stroke:#000000;stroke-width:0.5;\" x=\"28.890625\" xlink:href=\"#m2931bc4ac1\" y=\"13.006875\"/>\n      </g>\n     </g>\n     <g id=\"text_1\">\n      <!-- −3 -->\n      <g transform=\"translate(20.045313 371.725)scale(0.12 -0.12)\">\n       <defs>\n        <path d=\"M 678 2272 \nL 4684 2272 \nL 4684 1741 \nL 678 1741 \nL 678 2272 \nz\n\" id=\"DejaVuSans-2212\" transform=\"scale(0.015625)\"/>\n        <path d=\"M 2597 2516 \nQ 3050 2419 3304 2112 \nQ 3559 1806 3559 1356 \nQ 3559 666 3084 287 \nQ 2609 -91 1734 -91 \nQ 1441 -91 1130 -33 \nQ 819 25 488 141 \nL 488 750 \nQ 750 597 1062 519 \nQ 1375 441 1716 441 \nQ 2309 441 2620 675 \nQ 2931 909 2931 1356 \nQ 2931 1769 2642 2001 \nQ 2353 2234 1838 2234 \nL 1294 2234 \nL 1294 2753 \nL 1863 2753 \nQ 2328 2753 2575 2939 \nQ 2822 3125 2822 3475 \nQ 2822 3834 2567 4026 \nQ 2313 4219 1838 4219 \nQ 1578 4219 1281 4162 \nQ 984 4106 628 3988 \nL 628 4550 \nQ 988 4650 1302 4700 \nQ 1616 4750 1894 4750 \nQ 2613 4750 3031 4423 \nQ 3450 4097 3450 3541 \nQ 3450 3153 3228 2886 \nQ 3006 2619 2597 2516 \nz\n\" id=\"DejaVuSans-33\" transform=\"scale(0.015625)\"/>\n       </defs>\n       <use xlink:href=\"#DejaVuSans-2212\"/>\n       <use x=\"83.789062\" xlink:href=\"#DejaVuSans-33\"/>\n      </g>\n     </g>\n    </g>\n    <g id=\"xtick_2\">\n     <g id=\"line2d_3\">\n      <g>\n       <use style=\"stroke:#000000;stroke-width:0.5;\" x=\"92.662054\" xlink:href=\"#me40121ccd4\" y=\"358.606875\"/>\n      </g>\n     </g>\n     <g id=\"line2d_4\">\n      <g>\n       <use style=\"stroke:#000000;stroke-width:0.5;\" x=\"92.662054\" xlink:href=\"#m2931bc4ac1\" y=\"13.006875\"/>\n      </g>\n     </g>\n     <g id=\"text_2\">\n      <!-- −2 -->\n      <g transform=\"translate(83.816741 371.725)scale(0.12 -0.12)\">\n       <defs>\n        <path d=\"M 1228 531 \nL 3431 531 \nL 3431 0 \nL 469 0 \nL 469 531 \nQ 828 903 1448 1529 \nQ 2069 2156 2228 2338 \nQ 2531 2678 2651 2914 \nQ 2772 3150 2772 3378 \nQ 2772 3750 2511 3984 \nQ 2250 4219 1831 4219 \nQ 1534 4219 1204 4116 \nQ 875 4013 500 3803 \nL 500 4441 \nQ 881 4594 1212 4672 \nQ 1544 4750 1819 4750 \nQ 2544 4750 2975 4387 \nQ 3406 4025 3406 3419 \nQ 3406 3131 3298 2873 \nQ 3191 2616 2906 2266 \nQ 2828 2175 2409 1742 \nQ 1991 1309 1228 531 \nz\n\" id=\"DejaVuSans-32\" transform=\"scale(0.015625)\"/>\n       </defs>\n       <use xlink:href=\"#DejaVuSans-2212\"/>\n       <use x=\"83.789062\" xlink:href=\"#DejaVuSans-32\"/>\n      </g>\n     </g>\n    </g>\n    <g id=\"xtick_3\">\n     <g id=\"line2d_5\">\n      <g>\n       <use style=\"stroke:#000000;stroke-width:0.5;\" x=\"156.433482\" xlink:href=\"#me40121ccd4\" y=\"358.606875\"/>\n      </g>\n     </g>\n     <g id=\"line2d_6\">\n      <g>\n       <use style=\"stroke:#000000;stroke-width:0.5;\" x=\"156.433482\" xlink:href=\"#m2931bc4ac1\" y=\"13.006875\"/>\n      </g>\n     </g>\n     <g id=\"text_3\">\n      <!-- −1 -->\n      <g transform=\"translate(147.58817 371.725)scale(0.12 -0.12)\">\n       <defs>\n        <path d=\"M 794 531 \nL 1825 531 \nL 1825 4091 \nL 703 3866 \nL 703 4441 \nL 1819 4666 \nL 2450 4666 \nL 2450 531 \nL 3481 531 \nL 3481 0 \nL 794 0 \nL 794 531 \nz\n\" id=\"DejaVuSans-31\" transform=\"scale(0.015625)\"/>\n       </defs>\n       <use xlink:href=\"#DejaVuSans-2212\"/>\n       <use x=\"83.789062\" xlink:href=\"#DejaVuSans-31\"/>\n      </g>\n     </g>\n    </g>\n    <g id=\"xtick_4\">\n     <g id=\"line2d_7\">\n      <g>\n       <use style=\"stroke:#000000;stroke-width:0.5;\" x=\"220.204911\" xlink:href=\"#me40121ccd4\" y=\"358.606875\"/>\n      </g>\n     </g>\n     <g id=\"line2d_8\">\n      <g>\n       <use style=\"stroke:#000000;stroke-width:0.5;\" x=\"220.204911\" xlink:href=\"#m2931bc4ac1\" y=\"13.006875\"/>\n      </g>\n     </g>\n     <g id=\"text_4\">\n      <!-- 0 -->\n      <g transform=\"translate(216.387411 371.725)scale(0.12 -0.12)\">\n       <defs>\n        <path d=\"M 2034 4250 \nQ 1547 4250 1301 3770 \nQ 1056 3291 1056 2328 \nQ 1056 1369 1301 889 \nQ 1547 409 2034 409 \nQ 2525 409 2770 889 \nQ 3016 1369 3016 2328 \nQ 3016 3291 2770 3770 \nQ 2525 4250 2034 4250 \nz\nM 2034 4750 \nQ 2819 4750 3233 4129 \nQ 3647 3509 3647 2328 \nQ 3647 1150 3233 529 \nQ 2819 -91 2034 -91 \nQ 1250 -91 836 529 \nQ 422 1150 422 2328 \nQ 422 3509 836 4129 \nQ 1250 4750 2034 4750 \nz\n\" id=\"DejaVuSans-30\" transform=\"scale(0.015625)\"/>\n       </defs>\n       <use xlink:href=\"#DejaVuSans-30\"/>\n      </g>\n     </g>\n    </g>\n    <g id=\"xtick_5\">\n     <g id=\"line2d_9\">\n      <g>\n       <use style=\"stroke:#000000;stroke-width:0.5;\" x=\"283.976339\" xlink:href=\"#me40121ccd4\" y=\"358.606875\"/>\n      </g>\n     </g>\n     <g id=\"line2d_10\">\n      <g>\n       <use style=\"stroke:#000000;stroke-width:0.5;\" x=\"283.976339\" xlink:href=\"#m2931bc4ac1\" y=\"13.006875\"/>\n      </g>\n     </g>\n     <g id=\"text_5\">\n      <!-- 1 -->\n      <g transform=\"translate(280.158839 371.725)scale(0.12 -0.12)\">\n       <use xlink:href=\"#DejaVuSans-31\"/>\n      </g>\n     </g>\n    </g>\n    <g id=\"xtick_6\">\n     <g id=\"line2d_11\">\n      <g>\n       <use style=\"stroke:#000000;stroke-width:0.5;\" x=\"347.747768\" xlink:href=\"#me40121ccd4\" y=\"358.606875\"/>\n      </g>\n     </g>\n     <g id=\"line2d_12\">\n      <g>\n       <use style=\"stroke:#000000;stroke-width:0.5;\" x=\"347.747768\" xlink:href=\"#m2931bc4ac1\" y=\"13.006875\"/>\n      </g>\n     </g>\n     <g id=\"text_6\">\n      <!-- 2 -->\n      <g transform=\"translate(343.930268 371.725)scale(0.12 -0.12)\">\n       <use xlink:href=\"#DejaVuSans-32\"/>\n      </g>\n     </g>\n    </g>\n    <g id=\"xtick_7\">\n     <g id=\"line2d_13\">\n      <g>\n       <use style=\"stroke:#000000;stroke-width:0.5;\" x=\"411.519196\" xlink:href=\"#me40121ccd4\" y=\"358.606875\"/>\n      </g>\n     </g>\n     <g id=\"line2d_14\">\n      <g>\n       <use style=\"stroke:#000000;stroke-width:0.5;\" x=\"411.519196\" xlink:href=\"#m2931bc4ac1\" y=\"13.006875\"/>\n      </g>\n     </g>\n     <g id=\"text_7\">\n      <!-- 3 -->\n      <g transform=\"translate(407.701696 371.725)scale(0.12 -0.12)\">\n       <use xlink:href=\"#DejaVuSans-33\"/>\n      </g>\n     </g>\n    </g>\n    <g id=\"xtick_8\">\n     <g id=\"line2d_15\">\n      <g>\n       <use style=\"stroke:#000000;stroke-width:0.5;\" x=\"475.290625\" xlink:href=\"#me40121ccd4\" y=\"358.606875\"/>\n      </g>\n     </g>\n     <g id=\"line2d_16\">\n      <g>\n       <use style=\"stroke:#000000;stroke-width:0.5;\" x=\"475.290625\" xlink:href=\"#m2931bc4ac1\" y=\"13.006875\"/>\n      </g>\n     </g>\n     <g id=\"text_8\">\n      <!-- 4 -->\n      <g transform=\"translate(471.473125 371.725)scale(0.12 -0.12)\">\n       <defs>\n        <path d=\"M 2419 4116 \nL 825 1625 \nL 2419 1625 \nL 2419 4116 \nz\nM 2253 4666 \nL 3047 4666 \nL 3047 1625 \nL 3713 1625 \nL 3713 1100 \nL 3047 1100 \nL 3047 0 \nL 2419 0 \nL 2419 1100 \nL 313 1100 \nL 313 1709 \nL 2253 4666 \nz\n\" id=\"DejaVuSans-34\" transform=\"scale(0.015625)\"/>\n       </defs>\n       <use xlink:href=\"#DejaVuSans-34\"/>\n      </g>\n     </g>\n    </g>\n   </g>\n   <g id=\"matplotlib.axis_2\">\n    <g id=\"ytick_1\">\n     <g id=\"line2d_17\">\n      <defs>\n       <path d=\"M 0 0 \nL 4 0 \n\" id=\"m51a5509396\" style=\"stroke:#000000;stroke-width:0.5;\"/>\n      </defs>\n      <g>\n       <use style=\"stroke:#000000;stroke-width:0.5;\" x=\"28.890625\" xlink:href=\"#m51a5509396\" y=\"358.606875\"/>\n      </g>\n     </g>\n     <g id=\"line2d_18\">\n      <defs>\n       <path d=\"M 0 0 \nL -4 0 \n\" id=\"mb42068c60d\" style=\"stroke:#000000;stroke-width:0.5;\"/>\n      </defs>\n      <g>\n       <use style=\"stroke:#000000;stroke-width:0.5;\" x=\"475.290625\" xlink:href=\"#mb42068c60d\" y=\"358.606875\"/>\n      </g>\n     </g>\n     <g id=\"text_9\">\n      <!-- −2 -->\n      <g transform=\"translate(7.2 361.918125)scale(0.12 -0.12)\">\n       <use xlink:href=\"#DejaVuSans-2212\"/>\n       <use x=\"83.789062\" xlink:href=\"#DejaVuSans-32\"/>\n      </g>\n     </g>\n    </g>\n    <g id=\"ytick_2\">\n     <g id=\"line2d_19\">\n      <g>\n       <use style=\"stroke:#000000;stroke-width:0.5;\" x=\"28.890625\" xlink:href=\"#m51a5509396\" y=\"301.006875\"/>\n      </g>\n     </g>\n     <g id=\"line2d_20\">\n      <g>\n       <use style=\"stroke:#000000;stroke-width:0.5;\" x=\"475.290625\" xlink:href=\"#mb42068c60d\" y=\"301.006875\"/>\n      </g>\n     </g>\n     <g id=\"text_10\">\n      <!-- −1 -->\n      <g transform=\"translate(7.2 304.318125)scale(0.12 -0.12)\">\n       <use xlink:href=\"#DejaVuSans-2212\"/>\n       <use x=\"83.789062\" xlink:href=\"#DejaVuSans-31\"/>\n      </g>\n     </g>\n    </g>\n    <g id=\"ytick_3\">\n     <g id=\"line2d_21\">\n      <g>\n       <use style=\"stroke:#000000;stroke-width:0.5;\" x=\"28.890625\" xlink:href=\"#m51a5509396\" y=\"243.406875\"/>\n      </g>\n     </g>\n     <g id=\"line2d_22\">\n      <g>\n       <use style=\"stroke:#000000;stroke-width:0.5;\" x=\"475.290625\" xlink:href=\"#mb42068c60d\" y=\"243.406875\"/>\n      </g>\n     </g>\n     <g id=\"text_11\">\n      <!-- 0 -->\n      <g transform=\"translate(17.255625 246.718125)scale(0.12 -0.12)\">\n       <use xlink:href=\"#DejaVuSans-30\"/>\n      </g>\n     </g>\n    </g>\n    <g id=\"ytick_4\">\n     <g id=\"line2d_23\">\n      <g>\n       <use style=\"stroke:#000000;stroke-width:0.5;\" x=\"28.890625\" xlink:href=\"#m51a5509396\" y=\"185.806875\"/>\n      </g>\n     </g>\n     <g id=\"line2d_24\">\n      <g>\n       <use style=\"stroke:#000000;stroke-width:0.5;\" x=\"475.290625\" xlink:href=\"#mb42068c60d\" y=\"185.806875\"/>\n      </g>\n     </g>\n     <g id=\"text_12\">\n      <!-- 1 -->\n      <g transform=\"translate(17.255625 189.118125)scale(0.12 -0.12)\">\n       <use xlink:href=\"#DejaVuSans-31\"/>\n      </g>\n     </g>\n    </g>\n    <g id=\"ytick_5\">\n     <g id=\"line2d_25\">\n      <g>\n       <use style=\"stroke:#000000;stroke-width:0.5;\" x=\"28.890625\" xlink:href=\"#m51a5509396\" y=\"128.206875\"/>\n      </g>\n     </g>\n     <g id=\"line2d_26\">\n      <g>\n       <use style=\"stroke:#000000;stroke-width:0.5;\" x=\"475.290625\" xlink:href=\"#mb42068c60d\" y=\"128.206875\"/>\n      </g>\n     </g>\n     <g id=\"text_13\">\n      <!-- 2 -->\n      <g transform=\"translate(17.255625 131.518125)scale(0.12 -0.12)\">\n       <use xlink:href=\"#DejaVuSans-32\"/>\n      </g>\n     </g>\n    </g>\n    <g id=\"ytick_6\">\n     <g id=\"line2d_27\">\n      <g>\n       <use style=\"stroke:#000000;stroke-width:0.5;\" x=\"28.890625\" xlink:href=\"#m51a5509396\" y=\"70.606875\"/>\n      </g>\n     </g>\n     <g id=\"line2d_28\">\n      <g>\n       <use style=\"stroke:#000000;stroke-width:0.5;\" x=\"475.290625\" xlink:href=\"#mb42068c60d\" y=\"70.606875\"/>\n      </g>\n     </g>\n     <g id=\"text_14\">\n      <!-- 3 -->\n      <g transform=\"translate(17.255625 73.918125)scale(0.12 -0.12)\">\n       <use xlink:href=\"#DejaVuSans-33\"/>\n      </g>\n     </g>\n    </g>\n    <g id=\"ytick_7\">\n     <g id=\"line2d_29\">\n      <g>\n       <use style=\"stroke:#000000;stroke-width:0.5;\" x=\"28.890625\" xlink:href=\"#m51a5509396\" y=\"13.006875\"/>\n      </g>\n     </g>\n     <g id=\"line2d_30\">\n      <g>\n       <use style=\"stroke:#000000;stroke-width:0.5;\" x=\"475.290625\" xlink:href=\"#mb42068c60d\" y=\"13.006875\"/>\n      </g>\n     </g>\n     <g id=\"text_15\">\n      <!-- 4 -->\n      <g transform=\"translate(17.255625 16.318125)scale(0.12 -0.12)\">\n       <use xlink:href=\"#DejaVuSans-34\"/>\n      </g>\n     </g>\n    </g>\n   </g>\n  </g>\n </g>\n <defs>\n  <clipPath id=\"p6b4baadcb9\">\n   <rect height=\"345.6\" width=\"446.4\" x=\"28.890625\" y=\"13.006875\"/>\n  </clipPath>\n </defs>\n</svg>\n",
      "image/png": "[encoded data removed]"
     },
     "metadata": {}
    }
   ],
   "source": [
    "# Puntos son pares de puntos\n",
    "# T vector de transación\n",
    "def traslacion(puntos = [], T = (0, 0)):\n",
    "    print('T = ', T)\n",
    "    r = len(puntos)\n",
    "    if r < 2: return\n",
    "    for i in range(r):\n",
    "        for j in range(i, r):\n",
    "            print(puntos[i], puntos[j])\n",
    "            DDA(puntos[i], puntos[j], T)\n",
    "            \n",
    "    #puntos_tras = [tuple(map(lambda x, y: x + y, i, T)) for i in puntos]\n",
    "    #draw_linea_points(puntos)\n",
    "    #draw_linea_points(puntos_tras)    \n",
    "    plt.show()\n",
    "\n",
    "p1 = (1, 1) # -> x1, y1 = (10, 10)\n",
    "p2 = (2, 3)\n",
    "p3 = (3, 1)\n",
    "T = (-3, -2)\n",
    "\n",
    "traslacion([p1, p2, p3], T)\n",
    "\n"
   ]
  },
  {
   "cell_type": "code",
   "execution_count": null,
   "metadata": {},
   "outputs": [],
   "source": []
  }
 ]
}