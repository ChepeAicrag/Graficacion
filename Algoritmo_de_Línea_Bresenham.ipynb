{
  "nbformat": 4,
  "nbformat_minor": 0,
  "metadata": {
    "colab": {
      "name": " Algoritmo de Línea Bresenham.ipynb",
      "provenance": [],
      "authorship_tag": "ABX9TyPQEOdZ+tusm0tYYZ6fXTkc",
      "include_colab_link": true
    },
    "kernelspec": {
      "name": "python3",
      "display_name": "Python 3"
    },
    "language_info": {
      "name": "python"
    }
  },
  "cells": [
    {
      "cell_type": "markdown",
      "metadata": {
        "id": "view-in-github",
        "colab_type": "text"
      },
      "source": [
        "<a href=\"https://colab.research.google.com/github/ChepeAicrag12/Graficacion/blob/master/Algoritmo_de_L%C3%ADnea_Bresenham.ipynb\" target=\"_parent\"><img src=\"https://colab.research.google.com/assets/colab-badge.svg\" alt=\"Open In Colab\"/></a>"
      ]
    },
    {
      "cell_type": "code",
      "metadata": {
        "colab": {
          "base_uri": "https://localhost:8080/"
        },
        "id": "2Wzdbup5b2AH",
        "outputId": "ccd7ea9d-d180-4ed8-9bf8-5233fadbdd27"
      },
      "source": [
        "# Función para la obtención de los puntos de una recta, mediante el algoritmo de Bresenhman\n",
        "# Donde: \n",
        "#         (x0, y0): punto inicial\n",
        "#         (x1, y1): punto final\n",
        "\n",
        "def line_bresenham(x0, y0, x1, y1):\n",
        "  dx, dy = x1 - x0, y1 - y0\n",
        "  inc_E = 2 * dy # 2dy\n",
        "  inc_NE = inc_E - 2 * dx # 2dy - 2dx\n",
        "  p = inc_E - dx # 2dy - dx\n",
        "  x, y = x0, y0\n",
        "  print(f'({x}, {y})')\n",
        "  for _ in range(dx):\n",
        "    x, y = x + 1, y if p < 0 else y + 1\n",
        "    print(f'p = {p} -> ({x}, {y})')\n",
        "    p = p + inc_E if p < 0 else p + inc_NE\n",
        "\n",
        "#line_bresenham(20, 10, 30, 18)\n",
        "line_bresenham(1, 1, 7, 3)"
      ],
      "execution_count": 18,
      "outputs": [
        {
          "output_type": "stream",
          "text": [
            "(1, 1)\n",
            "p = -2 -> (2, 1)\n",
            "p = 2 -> (3, 2)\n",
            "p = -6 -> (4, 2)\n",
            "p = -2 -> (5, 2)\n",
            "p = 2 -> (6, 3)\n",
            "p = -6 -> (7, 3)\n"
          ],
          "name": "stdout"
        }
      ]
    }
  ]
}