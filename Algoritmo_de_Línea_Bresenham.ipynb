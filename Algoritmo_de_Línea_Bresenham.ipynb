{
  "nbformat": 4,
  "nbformat_minor": 0,
  "metadata": {
    "colab": {
      "name": " Algoritmo de Línea Bresenham.ipynb",
      "provenance": [],
      "authorship_tag": "ABX9TyPw7D8Gg4L1b1u02nqObPj0",
      "include_colab_link": true
    },
    "kernelspec": {
      "name": "python3",
      "display_name": "Python 3"
    },
    "language_info": {
      "name": "python"
    }
  },
  "cells": [
    {
      "cell_type": "markdown",
      "metadata": {
        "id": "view-in-github",
        "colab_type": "text"
      },
      "source": [
        "<a href=\"https://colab.research.google.com/github/ChepeAicrag12/Graficacion/blob/master/Algoritmo_de_L%C3%ADnea_Bresenham.ipynb\" target=\"_parent\"><img src=\"https://colab.research.google.com/assets/colab-badge.svg\" alt=\"Open In Colab\"/></a>"
      ]
    },
    {
      "cell_type": "code",
      "metadata": {
        "colab": {
          "base_uri": "https://localhost:8080/"
        },
        "id": "2Wzdbup5b2AH",
        "outputId": "b9410549-5a26-46a6-a79d-a580be30a126"
      },
      "source": [
        "def line_bresenham(x0, y0, x1, y1):\n",
        "  dx, dy = x1 - x0, y1 - y0\n",
        "  aux_1 = 2 * dy # 2dy\n",
        "  aux_2 = aux_1 - 2 * dx # 2dy - 2dx\n",
        "  p = aux_1 - dx # 2dy - dx\n",
        "  x, y = x0, y0\n",
        "  print(f'({x}, {y})')\n",
        "  for _ in range(dx):\n",
        "    x, y = x + 1, y if p < 0 else y + 1\n",
        "    print(f'p = {p} -> ({x}, {y})')\n",
        "    p = p + aux_1 if p < 0 else p + aux_2\n",
        "\n",
        "#line_bresenham(20, 10, 30, 18)\n",
        "line_bresenham(1, 1, 7, 3)"
      ],
      "execution_count": 15,
      "outputs": [
        {
          "output_type": "stream",
          "text": [
            "(1, 1)\n",
            "p = -2 -> (2, 1)\n",
            "p = 2 -> (3, 2)\n",
            "p = -6 -> (4, 2)\n",
            "p = -2 -> (5, 2)\n",
            "p = 2 -> (6, 3)\n",
            "p = -6 -> (7, 3)\n"
          ],
          "name": "stdout"
        }
      ]
    }
  ]
}