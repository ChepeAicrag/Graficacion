{
  "nbformat": 4,
  "nbformat_minor": 0,
  "metadata": {
    "colab": {
      "name": "GARCIA_GARCIA_JOSEANGEL (ACTIVIDAD 5.T1).ipynb",
      "provenance": [],
      "collapsed_sections": [],
      "include_colab_link": true
    },
    "kernelspec": {
      "name": "python3",
      "display_name": "Python 3"
    },
    "language_info": {
      "name": "python"
    }
  },
  "cells": [
    {
      "cell_type": "markdown",
      "metadata": {
        "id": "view-in-github",
        "colab_type": "text"
      },
      "source": [
        "<a href=\"https://colab.research.google.com/github/ChepeAicrag12/Graficacion/blob/master/GARCIA_GARCIA_JOSEANGEL_(ACTIVIDAD_5_T1).ipynb\" target=\"_parent\"><img src=\"https://colab.research.google.com/assets/colab-badge.svg\" alt=\"Open In Colab\"/></a>"
      ]
    },
    {
      "cell_type": "code",
      "metadata": {
        "id": "7iY13Ty0pvc0"
      },
      "source": [
        "import numpy as np\n",
        "import matplotlib.pyplot as plt\n",
        "\n",
        "N = 11 #Número de filas y columnas de la matriz (cuadrada)\n",
        "matriz_linea = np.zeros((N,N))#creamos la matriz con ceros en todas las celdas\n",
        "matriz_circunferencia = np.zeros((N,N))#creamos la matriz con ceros en todas las celdas\n",
        "linea = [] #Lista en donde se insertarán las coordenadas de los pixeles a pintar con la siguiente forma [x,y] para la línea\n",
        "circunferencia = [] #Lista en donde se insertarán las coordenadas de los pixeles a pintar con la siguiente forma [x,y] para la circunferencia"
      ],
      "execution_count": 177,
      "outputs": []
    },
    {
      "cell_type": "code",
      "metadata": {
        "id": "tzRuW3ncqwIf"
      },
      "source": [
        "def imprimir_linea():\n",
        "  for c in linea:\n",
        "    matriz_linea[c[0],c[1]] = 1\n",
        "    \n",
        "  plt.imshow(matriz_linea)\n",
        "  plt.colorbar()\n",
        "  plt.show()\n",
        "\n",
        "def imprimir_circunferencia():\n",
        "  for c in circunferencia:\n",
        "    matriz_circunferencia[c[0],c[1]] = 1\n",
        "\n",
        "  plt.imshow(matriz_circunferencia)\n",
        "  plt.colorbar()\n",
        "  plt.show()\n"
      ],
      "execution_count": 179,
      "outputs": []
    },
    {
      "cell_type": "markdown",
      "metadata": {
        "id": "vWFC3fKOuYT0"
      },
      "source": [
        "#Ejercicio 1\n",
        "Dadas dos coordenadas ingresadas por el usuario (punto inicial y punto final) escribir el código que implemente el algortimo de Bresenham para líneas y encontrar los pixeles que forman parte de la línea que une estos puntos. Al final graficar el resultado. "
      ]
    },
    {
      "cell_type": "code",
      "metadata": {
        "id": "IR0W7cFdqpH1",
        "colab": {
          "base_uri": "https://localhost:8080/",
          "height": 541
        },
        "outputId": "07439a64-ebbb-4d00-e615-d450112d82e0"
      },
      "source": [
        "#En esta celda deben escribir su código para ir llenando el array linea, al final se debellamar a la función imprimir para ver el resultado en la pantalla.\n",
        "\n",
        "def line_bresenham(p1, p2):\n",
        "  x0, y0 = p1\n",
        "  x1, y1 = p2\n",
        "  if x0 < 0 or x1 < 0 or y0 < 0 or y1 < 0: return\n",
        "  \n",
        "  dif_x, dif_y = x1 - x0, y1 - y0 \n",
        "  dx, dy = abs(dif_x), abs(dif_y)\n",
        "\n",
        "  if dy >= dx:\n",
        "    dx, dy = dy, dx\n",
        "\n",
        "  inc_E = 2 * dy # 2dy\n",
        "  inc_NE = inc_E - 2 * dx # 2dy - 2dx\n",
        "  d = inc_E - dx # 2dy - dx\n",
        "\n",
        "\n",
        "  x, y = x0, y0\n",
        "  linea.append([x,y])\n",
        "  print(x, y)\n",
        "  \n",
        "  x_inc = 1 if dif_x > 0 else - 1\n",
        "  y_inc = 1 if dif_y > 0 else - 1\n",
        "  x_inc = x_inc if dif_x != 0 else 0\n",
        "  y_inc = y_inc if dif_y != 0 else 0\n",
        "\n",
        "  m = abs(dif_y/dif_x)\n",
        "  flag = False\n",
        "  if m > 1:\n",
        "    x_inc, y_inc = y_inc, x_inc \n",
        "    flag = True # Cambiar el comportamiento de incremento entre x y y \n",
        "   \n",
        "  print(x_inc)\n",
        "  print(y_inc)\n",
        "  print(inc_E)\n",
        "  print(inc_NE)\n",
        "  print(dx)\n",
        "  print(dy)\n",
        "  print(d)\n",
        "  print(m)\n",
        "  print(flag)\n",
        "\n",
        "  for _ in range(dx):\n",
        "    if not flag:\n",
        "      x = x + x_inc\n",
        "    else: \n",
        "      y = y + y_inc\n",
        "    if d <= 0 or (x_inc != 0 and not flag):\n",
        "      #print('d <= 0', d)\n",
        "      d = d + inc_E\n",
        "    else: \n",
        "      #print('d > 0', d)\n",
        "      if flag:\n",
        "        x = x + x_inc\n",
        "      else:\n",
        "        y = y + y_inc \n",
        "      d = d + inc_NE\n",
        "    print(x, y)\n",
        "    linea.append([x,y])\n",
        "  imprimir_linea()#Este es el llamado a la función que se encarga de plotear la matriz\n",
        "\n",
        "#p1 = tuple(list(map(int, input('Introduce el valor de p1: ').split())))\n",
        "#p2 = tuple(list(map(int, input('Introduce el valor de p2: ').split())))\n",
        "\n",
        "\n",
        "#line_bresenham((1, 1), (4, 4)) # m = 1 | Cumple\n",
        "#line_bresenham((4, 4), (1, 1)) #Cumple\n",
        "\n",
        "#line_bresenham((1, 1), (4, 1)) # m = 0 | Cumple\n",
        "#line_bresenham((4, 1), (1, 1)) # Cumple\n",
        "\n",
        "\n",
        "#line_bresenham((1, 1), (1, 4)) # m = infinito | Cumple\n",
        "#line_bresenham((1, 4), (1, 1)) # Cumple\n",
        "\n",
        "#line_bresenham((1, 4), (4, 1)) # m = -1 | Cumple\n",
        "#line_bresenham((4, 1), (1, 4))\n",
        "\n",
        "\n",
        "#line_bresenham((0, 0), (20, 10)) # Cumple\n",
        "#line_bresenham((20, 15), (1, 20)) # Cumple\n",
        "#line_bresenham((1, 20), (20, 15)) # Cumple\n",
        "\n",
        "#line_bresenham((1, 1), (5, 4)) # Cumple\n",
        "#line_bresenham((1,5), (27, 4)) # Cumple\n",
        "\n",
        "#line_bresenham((2,8), (6, 20))\n",
        "\n",
        "#line_bresenham((1,4), (4, 2))\n",
        "#line_bresenham((4, 2), (3, 10))\n",
        "#line_bresenham((1,4), (3, 10))\n",
        "\n",
        "line_bresenham((1, 4), (3, 10))\n",
        "#line_bresenham((4, 2), (3, 10))\n",
        "#line_bresenham((1, 4), (4, 2))\n",
        "\n",
        "#line_bresenham((2, 8), (8, 4))\n",
        "#line_bresenham((2, 8), (6, 20))\n",
        "#line_bresenham((8, 4 ), (6, 20))\n",
        "\n",
        "#line_bresenham((3, 10), (4, 2))\n",
        "#line_bresenham((4, 2), (3, 10))"
      ],
      "execution_count": 193,
      "outputs": [
        {
          "output_type": "stream",
          "text": [
            "1 4\n",
            "1\n",
            "1\n",
            "4\n",
            "-8\n",
            "6\n",
            "2\n",
            "-2\n",
            "3.0\n",
            "True\n",
            "1 5\n",
            "2 6\n",
            "2 7\n",
            "2 8\n",
            "3 9\n",
            "3 10\n"
          ],
          "name": "stdout"
        },
        {
          "output_type": "display_data",
          "data": {
            "image/png": "[encoded data removed]",
            "text/plain": [
              "<Figure size 432x288 with 2 Axes>"
            ]
          },
          "metadata": {
            "tags": [],
            "needs_background": "light"
          }
        }
      ]
    },
    {
      "cell_type": "markdown",
      "metadata": {
        "id": "_CeTUXL_RZk4"
      },
      "source": [
        ""
      ]
    },
    {
      "cell_type": "markdown",
      "metadata": {
        "id": "DjrsjZHBvzzR"
      },
      "source": [
        "#Ejercicio 2\n",
        "Dado un radio ingresado por el usuraio escribir el código que implemente el algortimo de Bresenham para circunferencias y encontrar los pixeles que forman parte de esta circunferencia centrada en el origen. Al final graficar el resultado. "
      ]
    },
    {
      "cell_type": "code",
      "metadata": {
        "id": "cifnG6wKwITG",
        "colab": {
          "base_uri": "https://localhost:8080/",
          "height": 422
        },
        "outputId": "ad9baabe-fcdb-464c-c3e1-33f278c26a66"
      },
      "source": [
        "#En esta celda deben escribir su código para ir llenando el array circunferencia, al final se debe llamar a la función imprimir_circunferencia para ver el resultado en la pantalla.\n",
        "def addPoint(x, y):\n",
        "  circunferencia.append([x, y])\n",
        "  circunferencia.append([y, x])\n",
        "  #circunferencia.append([y, -x])\n",
        "  #circunferencia.append([x, -y])\n",
        "  #circunferencia.append([-x, -y])\n",
        "  #circunferencia.append([-y, -x])\n",
        "  #circunferencia.append([-x, y])\n",
        "  #circunferencia.append([-y, x])\n",
        "\n",
        "def drawCircunferencia(r):\n",
        "  x, y = 0, r\n",
        "  p = 5/4 - r\n",
        "  addPoint(x, y)\n",
        "  print(x, y)\n",
        "  while y > x:\n",
        "    x = x + 1\n",
        "    aux = p + 2 * x # x = xk + 1  -> dE = 2 (x + 1)  = 2x + 2\n",
        "    if p < 0:\n",
        "      p = aux + 1 # -> dE = 2x + 2 + 1 = 2x + 3\n",
        "    else: \n",
        "      p = aux - 2 * y + 3 # dSE = 2x + 2 - 2y + 3  \n",
        "      y = y - 1 \n",
        "    print(x, y)\n",
        "    addPoint(y, x)\n",
        "  imprimir_circunferencia()#Este es el llamado a la función que se encarga de plotear la matriz\n",
        "\n",
        "r = int(input('Introduce el radio r = '))\n",
        "drawCircunferencia(r)"
      ],
      "execution_count": null,
      "outputs": [
        {
          "output_type": "stream",
          "text": [
            "Introduce el radio r = 10\n",
            "0 10\n",
            "1 10\n",
            "2 10\n",
            "3 10\n",
            "4 9\n",
            "5 9\n",
            "6 8\n",
            "7 7\n"
          ],
          "name": "stdout"
        },
        {
          "output_type": "display_data",
          "data": {
            "image/png": "[encoded data removed]",
            "text/plain": [
              "<Figure size 432x288 with 2 Axes>"
            ]
          },
          "metadata": {
            "tags": [],
            "needs_background": "light"
          }
        }
      ]
    }
  ]
}