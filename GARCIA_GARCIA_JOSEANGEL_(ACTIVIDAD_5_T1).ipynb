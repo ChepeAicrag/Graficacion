{
  "nbformat": 4,
  "nbformat_minor": 0,
  "metadata": {
    "colab": {
      "name": "GARCIA_GARCIA_JOSEANGEL. (ACTIVIDAD 5.T1).ipynb",
      "provenance": [],
      "collapsed_sections": [],
      "include_colab_link": true
    },
    "kernelspec": {
      "name": "python3",
      "display_name": "Python 3"
    },
    "language_info": {
      "name": "python"
    }
  },
  "cells": [
    {
      "cell_type": "markdown",
      "metadata": {
        "id": "view-in-github",
        "colab_type": "text"
      },
      "source": [
        "<a href=\"https://colab.research.google.com/github/ChepeAicrag12/Graficacion/blob/master/GARCIA_GARCIA_JOSEANGEL_(ACTIVIDAD_5_T1).ipynb\" target=\"_parent\"><img src=\"https://colab.research.google.com/assets/colab-badge.svg\" alt=\"Open In Colab\"/></a>"
      ]
    },
    {
      "cell_type": "code",
      "metadata": {
        "id": "7iY13Ty0pvc0"
      },
      "source": [
        "import numpy as np\n",
        "import matplotlib.pyplot as plt\n",
        "\n",
        "N = 50 #Número de filas y columnas de la matriz (cuadrada)\n",
        "matriz_linea = np.zeros((N,N))#creamos la matriz con ceros en todas las celdas\n",
        "matriz_circunferencia = np.zeros((N,N))#creamos la matriz con ceros en todas las celdas\n",
        "linea = [] #Lista en donde se insertarán las coordenadas de los pixeles a pintar con la siguiente forma [x,y] para la línea\n",
        "circunferencia = [] #Lista en donde se insertarán las coordenadas de los pixeles a pintar con la siguiente forma [x,y] para la circunferencia"
      ],
      "execution_count": null,
      "outputs": []
    },
    {
      "cell_type": "code",
      "metadata": {
        "id": "tzRuW3ncqwIf"
      },
      "source": [
        "def imprimir_linea():\n",
        "  for c in linea:\n",
        "    matriz_linea[c[0],c[1]] = 1\n",
        "    \n",
        "  plt.imshow(matriz_linea)\n",
        "  plt.colorbar()\n",
        "  plt.show()\n",
        "\n",
        "def imprimir_circunferencia():\n",
        "  for c in circunferencia:\n",
        "    matriz_circunferencia[c[0],c[1]] = 1\n",
        "\n",
        "  plt.imshow(matriz_circunferencia)\n",
        "  plt.colorbar()\n",
        "  plt.show()\n"
      ],
      "execution_count": null,
      "outputs": []
    },
    {
      "cell_type": "markdown",
      "metadata": {
        "id": "vWFC3fKOuYT0"
      },
      "source": [
        "#Ejercicio 1\n",
        "Dadas dos coordenadas ingresadas por el usuario (punto inicial y punto final) escribir el código que implemente el algortimo de Bresenham para líneas y encontrar los pixeles que forman parte de la línea que une estos puntos. Al final graficar el resultado. "
      ]
    },
    {
      "cell_type": "code",
      "metadata": {
        "id": "IR0W7cFdqpH1",
        "colab": {
          "base_uri": "https://localhost:8080/",
          "height": 301
        },
        "outputId": "3cf92fbe-83f3-4833-8c83-1f3cfd189e34"
      },
      "source": [
        "#En esta celda deben escribir su código para ir llenando el array linea, al final se debellamar a la función imprimir para ver el resultado en la pantalla.\n",
        "\n",
        "def line_bresenham(p1, p2):\n",
        "  x0, y0 = p1\n",
        "  x1, y1 = p2\n",
        "  if x0 < 0 or x1 < 0 or y0 < 0 or y1 < 0: return\n",
        "  dif_x, dif_y = x1 - x0, y1 - y0 \n",
        "  dx, dy = abs(dif_x), abs(dif_y)\n",
        "  if dy >= dx:\n",
        "    dx_tmp = dx\n",
        "    dx, dy = dy, dx_tmp\n",
        "  inc_E = 2 * dy # 2dy\n",
        "  inc_NE = inc_E - 2 * dx # 2dy - 2dx\n",
        "  d = inc_E - dx # 2dy - dx\n",
        "  x, y = x0, y0\n",
        "  linea.append([y,x])\n",
        "  x_inc = 1 if dif_x > 0 else - 1\n",
        "  y_inc = 1 if dif_y > 0 else - 1\n",
        "  x_inc = x_inc if dif_x != 0 else 0\n",
        "  y_inc = y_inc if dif_y != 0 else 0\n",
        "  for _ in range(dx):\n",
        "    x = x + x_inc\n",
        "    if d < 0 and x_inc != 0:\n",
        "      d = d + inc_E\n",
        "    else: \n",
        "      y = y + y_inc\n",
        "      d = d + inc_NE\n",
        "    linea.append([y,x])\n",
        "  imprimir_linea()#Este es el llamado a la función que se encarga de plotear la matriz\n",
        "\n",
        "p1 = tuple(list(map(int, input('Introduce el valor de p1: ').split())))\n",
        "p2 = tuple(list(map(int, input('Introduce el valor de p2: ').split())))\n",
        "line_bresenham(p1, p2)"
      ],
      "execution_count": null,
      "outputs": [
        {
          "output_type": "stream",
          "text": [
            "Introduce el valor de p1: 10 5\n",
            "Introduce el valor de p2: 4 3\n"
          ],
          "name": "stdout"
        },
        {
          "output_type": "display_data",
          "data": {
            "image/png": "[encoded data removed]",
            "text/plain": [
              "<Figure size 432x288 with 2 Axes>"
            ]
          },
          "metadata": {
            "tags": [],
            "needs_background": "light"
          }
        }
      ]
    },
    {
      "cell_type": "markdown",
      "metadata": {
        "id": "DjrsjZHBvzzR"
      },
      "source": [
        "#Ejercicio 2\n",
        "Dado un radio ingresado por el usuraio escribir el código que implemente el algortimo de Bresenham para circunferencias y encontrar los pixeles que forman parte de esta circunferencia centrada en el origen. Al final graficar el resultado. "
      ]
    },
    {
      "cell_type": "code",
      "metadata": {
        "id": "cifnG6wKwITG",
        "colab": {
          "base_uri": "https://localhost:8080/",
          "height": 285
        },
        "outputId": "c97c5e8f-e1cf-4aa1-ef5c-a8ff291059c9"
      },
      "source": [
        "#En esta celda deben escribir su código para ir llenando el array circunferencia, al final se debe llamar a la función imprimir_circunferencia para ver el resultado en la pantalla.\n",
        "def addPoint(x, y):\n",
        "  circunferencia.append([x, y])\n",
        "  circunferencia.append([y, x])\n",
        "  #circunferencia.append([y, -x])\n",
        "  #circunferencia.append([x, -y])\n",
        "  #circunferencia.append([-x, -y])\n",
        "  #circunferencia.append([-y, -x])\n",
        "  #circunferencia.append([-x, y])\n",
        "  #circunferencia.append([-y, x])\n",
        "\n",
        "def circumference_bresenham(r):\n",
        "  if r < 0: return \n",
        "  x, y = 0, r\n",
        "  d = 5/4 - r\n",
        "  addPoint(y, x)\n",
        "  while y > x:\n",
        "    x = x + 1\n",
        "    aux = d + 2 * x \n",
        "    if d < 0:\n",
        "      d = aux + 1 \n",
        "    else: \n",
        "      d = aux - 2 * y + 3 \n",
        "      y = y - 1 \n",
        "    addPoint(y, x)\n",
        "  imprimir_circunferencia()#Este es el llamado a la función que se encarga de plotear la matriz\n",
        "\n",
        "r = int(input('Introduce el radio r = '))\n",
        "circumference_bresenham(r)"
      ],
      "execution_count": null,
      "outputs": [
        {
          "output_type": "stream",
          "text": [
            "Introduce el radio r = 45\n"
          ],
          "name": "stdout"
        },
        {
          "output_type": "display_data",
          "data": {
            "image/png": "[encoded data removed]",
            "text/plain": [
              "<Figure size 432x288 with 2 Axes>"
            ]
          },
          "metadata": {
            "tags": [],
            "needs_background": "light"
          }
        }
      ]
    }
  ]
}