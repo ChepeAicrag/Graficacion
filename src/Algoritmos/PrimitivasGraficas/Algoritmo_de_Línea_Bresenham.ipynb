{
  "nbformat": 4,
  "nbformat_minor": 0,
  "metadata": {
    "colab": {
      "name": " Algoritmo de Línea Bresenham.ipynb",
      "provenance": [],
      "collapsed_sections": [],
      "authorship_tag": "ABX9TyNtFfFWNPKrWnEb2XckrEm5",
      "include_colab_link": true
    },
    "kernelspec": {
      "name": "python385jvsc74a57bd061b37ed61ffe6e293cc3ea61db8557c662f86c91481e1b20e8feb8c6bdd65022",
      "display_name": "Python 3.8.5 64-bit ('base': conda)"
    },
    "language_info": {
      "name": "python",
      "version": "3.8.5"
    }
  },
  "cells": [
    {
      "cell_type": "markdown",
      "metadata": {
        "id": "view-in-github",
        "colab_type": "text"
      },
      "source": [
        "<a href=\"https://colab.research.google.com/github/ChepeAicrag12/Graficacion/blob/master/Algoritmo_de_L%C3%ADnea_Bresenham.ipynb\" target=\"_parent\"><img src=\"https://colab.research.google.com/assets/colab-badge.svg\" alt=\"Open In Colab\"/></a>"
      ]
    },
    {
      "cell_type": "code",
      "metadata": {
        "colab": {
          "base_uri": "https://localhost:8080/"
        },
        "id": "2Wzdbup5b2AH",
        "outputId": "65f90b78-9d4f-4b47-c4e8-2d1b3e8a84a4"
      },
      "source": [
        "# Función para la obtención de los puntos de una recta, mediante el algoritmo de Bresenhman\n",
        "# Donde: \n",
        "#         (x0, y0): punto inicial\n",
        "#         (x1, y1): punto final\n",
        "\n",
        "def line_bresenham(x0, y0, x1, y1):\n",
        "  dx, dy = x1 - x0, y1 - y0\n",
        "  inc_E = 2 * dy # 2dy\n",
        "  inc_NE = inc_E - 2 * dx # 2dy - 2dx\n",
        "  p = inc_E - dx # 2dy - dx\n",
        "  x, y = x0, y0\n",
        "  print(f'({x}, {y})')\n",
        "  for _ in range(dx):\n",
        "    x = x + 1\n",
        "    if p < 0:\n",
        "      p = p + inc_E\n",
        "    else: \n",
        "      p = p + inc_NE\n",
        "      y = y + 1\n",
        "    print(f'({x}, {y})')\n",
        "    #x, y = x + 1, y if p <= 0 else y + 1\n",
        "    #print(f'({x}, {y})')\n",
        "    #p = p + inc_E if p <= 0 else p + inc_NE\n",
        "\n",
        "#line_bresenham(20, 10, 30, 18)\n",
        "#line_bresenham(2, 3, 3, 1)\n",
        "#line_bresenham(20,10,30,18)\n",
        "\n",
        "#line_bresenham(1, 1, 4, 4)\n",
        "#line_bresenham(1, 1, 4, 1)\n",
        "#line_bresenham(1, 1, 1, 4) Falla \n",
        "line_bresenham(3, 10, 4, 2) #Falla"
      ],
      "execution_count": 2,
      "outputs": [
        {
          "output_type": "stream",
          "name": "stdout",
          "text": [
            "(3, 10)\n(4, 10)\n"
          ]
        }
      ]
    },
    {
      "cell_type": "code",
      "execution_count": null,
      "metadata": {},
      "outputs": [],
      "source": [
        "#En esta celda deben escribir su código para ir llenando el array linea, al final se debellamar a la función imprimir para ver el resultado en la pantalla.\n",
        "  #x0 = int(input('Introduce el valor de x0: '))\n",
        "  #y0 = int(input('Introduce el valor de y0: '))\n",
        "  #x1 = int(input('Introduce el valor de x1: '))\n",
        "  #y1 = int(input('Introduce el valor de y1: '))\n",
        "\n",
        "def line_bresenham(p1, p2):\n",
        "  x0, y0 = p1\n",
        "  x1, y1 = p2\n",
        "  if x0 < 0 or x1 < 0 or y0 < 0 or y1 < 0: return\n",
        "  dif_x, dif_y = x1 - x0, y1 - y0 \n",
        "  dx, dy = abs(dif_x), abs(dif_y)\n",
        "  if dy >= dx:\n",
        "    dx_tmp = dx\n",
        "    dx, dy = dy, dx_tmp\n",
        "  inc_E = 2 * dy # 2dy\n",
        "  inc_NE = inc_E - 2 * dx # 2dy - 2dx\n",
        "  d = inc_E - dx # 2dy - dx\n",
        "  x, y = x0, y0\n",
        "  linea.append([y,x])\n",
        "  print(x, y)\n",
        "  x_inc = 1 if dif_x > 0 else - 1\n",
        "  y_inc = 1 if dif_y > 0 else - 1\n",
        "  x_inc = x_inc if dif_x != 0 else 0\n",
        "  y_inc = y_inc if dif_y != 0 else 0\n",
        "  for _ in range(dx):\n",
        "    x = x + x_inc if x != x1 else x\n",
        "    if d < 0 and x_inc != 0 and x != x1:\n",
        "      d = d + inc_E\n",
        "    else: \n",
        "      y = y + y_inc if y != y1 else y\n",
        "      d = d + inc_NE\n",
        "    print(x, y)\n",
        "    linea.append([y,x])\n",
        "  imprimir_linea()#Este es el llamado a la función que se encarga de plotear la matriz\n",
        "\n",
        "#p1 = tuple(list(map(int, input('Introduce el valor de p1: ').split())))\n",
        "#p2 = tuple(list(map(int, input('Introduce el valor de p2: ').split())))\n",
        "\n",
        "\n",
        "#line_bresenham((1, 1), (4, 4)) # m = 1 | Cumple\n",
        "#line_bresenham((4, 4), (1, 1)) #Cumple\n",
        "\n",
        "#line_bresenham((1, 1), (4, 1)) # m = 0 | Cumple\n",
        "#line_bresenham((4, 1), (1, 1)) # Cumple\n",
        "\n",
        "\n",
        "#line_bresenham((1, 1), (1, 4)) # m = infinito | Cumple\n",
        "#line_bresenham((1, 4), (1, 1)) # Cumple\n",
        "\n",
        "#line_bresenham((1, 4), (4, 1)) # m = -1 | Cumple\n",
        "#line_bresenham((4, 1), (1, 4))\n",
        "\n",
        "\n",
        "#line_bresenham((0, 0), (20, 10)) # Cumple\n",
        "#line_bresenham((20, 15), (1, 20)) # Cumple\n",
        "#line_bresenham((1, 20), (20, 15)) # Cumple\n",
        "\n",
        "#line_bresenham((1, 1), (5, 4)) # Cumple\n",
        "#line_bresenham((1,5), (27, 4)) # Cumple\n",
        "\n",
        "#line_bresenham((2,8), (6, 20))\n",
        "\n",
        "line_bresenham((1,4), (4, 2))\n",
        "line_bresenham((1,4), (3, 10))\n",
        "line_bresenham((4,2 ), (3, 10))\n",
        "\n",
        "line_bresenham((2, 8), (8, 4))\n",
        "line_bresenham((2,8), (6, 20))\n",
        "line_bresenham((8,4 ), (6, 20))\n",
        "\n",
        "#line_bresenham((3, 10), (4, 2))\n",
        "#line_bresenham((4, 2), (3, 10))"
      ]
    },
    {
      "cell_type": "code",
      "execution_count": 1,
      "metadata": {},
      "outputs": [
        {
          "output_type": "stream",
          "name": "stdout",
          "text": [
            "1 4\n1 5\n2 6\n2 7\n2 8\n3 9\n3 10\n"
          ]
        }
      ],
      "source": [
        "# Algoritmo completo de bresenham\n",
        "\n",
        "def line_bresenham(p1, p2):\n",
        "  x0, y0 = p1\n",
        "  x1, y1 = p2\n",
        "  dif_x, dif_y = x1 - x0, y1 - y0 \n",
        "  dx, dy = abs(dif_x), abs(dif_y)\n",
        "  if dy >= dx:\n",
        "    dx, dy = dy, dx\n",
        "  inc_E = 2 * dy # 2dy\n",
        "  inc_NE = inc_E - 2 * dx # 2dy - 2dx\n",
        "  d = inc_E - dx # 2dy - dx\n",
        "  x, y = x0, y0\n",
        "  print(x, y)\n",
        "  x_inc = 1 if dif_x > 0 else - 1\n",
        "  y_inc = 1 if dif_y > 0 else - 1\n",
        "  x_inc = x_inc if dif_x != 0 else 0\n",
        "  y_inc = y_inc if dif_y != 0 else 0\n",
        "  flag = (abs(dif_y/dif_x) if dif_x != 0 else 0 ) > 1\n",
        "  for _ in range(dx):\n",
        "    x = x + x_inc if not flag else x \n",
        "    y = y + y_inc if flag else y\n",
        "    if (d <= 0 and flag) or (d <= 0 and x_inc != 0 and not flag):\n",
        "      d = d + inc_E\n",
        "    else: \n",
        "      x = x + x_inc if flag else x\n",
        "      y = y + y_inc if not flag else y\n",
        "      d = d + inc_NE\n",
        "    print(x, y)\n",
        "line_bresenham((1, 4), (3, 10))"
      ]
    },
    {
      "cell_type": "code",
      "execution_count": null,
      "metadata": {},
      "outputs": [],
      "source": []
    }
  ]
}