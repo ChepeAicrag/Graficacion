{
 "metadata": {
  "language_info": {
   "codemirror_mode": {
    "name": "ipython",
    "version": 3
   },
   "file_extension": ".py",
   "mimetype": "text/x-python",
   "name": "python",
   "nbconvert_exporter": "python",
   "pygments_lexer": "ipython3",
   "version": "3.8.5"
  },
  "orig_nbformat": 2,
  "kernelspec": {
   "name": "python385jvsc74a57bd061b37ed61ffe6e293cc3ea61db8557c662f86c91481e1b20e8feb8c6bdd65022",
   "display_name": "Python 3.8.5 64-bit ('base': conda)"
  },
  "metadata": {
   "interpreter": {
    "hash": "8222f5522f4996ffda8147eb67611e19c462b1ce84701373f47648cf1d1c3fd1"
   }
  }
 },
 "nbformat": 4,
 "nbformat_minor": 2,
 "cells": [
  {
   "cell_type": "code",
   "execution_count": 1,
   "metadata": {},
   "outputs": [],
   "source": [
    "import numpy as np\n",
    "import matplotlib.pyplot as plt\n",
    "\n",
    "N = 50\n",
    "matriz_linea = np.zeros((N,N))\n",
    "linea = [] "
   ]
  },
  {
   "cell_type": "code",
   "execution_count": 2,
   "metadata": {},
   "outputs": [],
   "source": [
    "import matplotlib as mpl\n",
    "import matplotlib.pyplot as plt\n",
    "plt.style.use('classic')\n",
    "\n",
    "def drawPoint(x, y):\n",
    "  print(f'({x}, {y})')\n",
    "  plt.scatter(x, y)"
   ]
  },
  {
   "cell_type": "code",
   "execution_count": 3,
   "metadata": {},
   "outputs": [],
   "source": [
    "def imprimir_linea():\n",
    "  for c in linea:\n",
    "    matriz_linea[c[0],c[1]] = 1\n",
    "    \n",
    "  plt.imshow(matriz_linea)\n",
    "  plt.colorbar()\n",
    "  plt.show()"
   ]
  },
  {
   "cell_type": "code",
   "execution_count": 4,
   "metadata": {},
   "outputs": [],
   "source": [
    "def line_bresenham(p1, p2):\n",
    "  puntos = []\n",
    "  x0, y0 = p1\n",
    "  x1, y1 = p2\n",
    "  dif_x, dif_y = x1 - x0, y1 - y0 \n",
    "  dx, dy = abs(dif_x), abs(dif_y)\n",
    "  if dy >= dx:\n",
    "    dx, dy = dy, dx\n",
    "  inc_E = 2 * dy # 2dy\n",
    "  inc_NE = inc_E - 2 * dx # 2dy - 2dx\n",
    "  d = inc_E - dx # 2dy - dx\n",
    "  x, y = x0, y0\n",
    "  #print(x, y)\n",
    "  #drawPoint(x, y)\n",
    "  puntos.append((x, y))\n",
    "  #linea.append([y, x])\n",
    "  x_inc = 1 if dif_x > 0 else - 1\n",
    "  y_inc = 1 if dif_y > 0 else - 1\n",
    "  x_inc = x_inc if dif_x != 0 else 0\n",
    "  y_inc = y_inc if dif_y != 0 else 0\n",
    "  flag = (abs(dif_y/dif_x) if dif_x != 0 else 0 ) > 1\n",
    "  for _ in range(dx):\n",
    "    x = x + x_inc if not flag else x \n",
    "    y = y + y_inc if flag else y\n",
    "    if (d < 0 and flag) or (d < 0 and x_inc != 0 and not flag):\n",
    "      d = d + inc_E\n",
    "    else: \n",
    "      x = x + x_inc if flag else x\n",
    "      y = y + y_inc if not flag else y\n",
    "      d = d + inc_NE\n",
    "    puntos.append((x, y))\n",
    "    #print(x, y)\n",
    "    #drawPoint(x, y)\n",
    "    #linea.append([y, x])\n",
    "  return puntos"
   ]
  },
  {
   "cell_type": "code",
   "execution_count": 5,
   "metadata": {},
   "outputs": [],
   "source": [
    "def bresenham(p1, p2):\n",
    "    x0, y0 = p1\n",
    "    x1, y1 = p2\n",
    "    dx, dy = x1 - x0, y1 - y0\n",
    "    xsign = 1 if dx > 0 else -1\n",
    "    ysign = 1 if dy > 0 else -1\n",
    "    dx, dy = abs(dx), abs(dy)\n",
    "    if dx > dy:\n",
    "        xx, xy, yx, yy = xsign, 0, 0, ysign\n",
    "    else:\n",
    "        dx, dy = dy, dx\n",
    "        xx, xy, yx, yy = 0, ysign, xsign, 0\n",
    "    D = 2*dy - dx\n",
    "    y = 0\n",
    "    for x in range(dx + 1):\n",
    "        yield x0 + x*xx + y*yx, y0 + x*xy + y*yy\n",
    "        if D >= 0:\n",
    "            y += 1\n",
    "            D -= 2*dx\n",
    "        D += 2*dy\n",
    "#print(list(bresenham((2,3), (3,1))))"
   ]
  },
  {
   "cell_type": "code",
   "execution_count": 10,
   "metadata": {},
   "outputs": [
    {
     "output_type": "stream",
     "name": "stdout",
     "text": [
      "1 1 1 1\n___________\n(1, 1)\n(-2, -1)\n1 1 2 3\n___________\n(1, 1)\n(-2, -1)\n(2, 2)\n(-1, 0)\n(2, 3)\n(-1, 1)\n1 1 3 1\n___________\n(1, 1)\n(-2, -1)\n(2, 1)\n(-1, -1)\n(3, 1)\n(0, -1)\n2 3 2 3\n___________\n(2, 3)\n(-1, 1)\n2 3 3 1\n___________\n(2, 3)\n(-1, 1)\n(3, 2)\n(0, 0)\n(3, 1)\n(0, -1)\n3 1 3 1\n___________\n(3, 1)\n(0, -1)\n"
     ]
    },
    {
     "output_type": "display_data",
     "data": {
      "text/plain": "<Figure size 640x480 with 1 Axes>",
      "image/svg+xml": "<?xml version=\"1.0\" encoding=\"utf-8\" standalone=\"no\"?>\r\n<!DOCTYPE svg PUBLIC \"-//W3C//DTD SVG 1.1//EN\"\r\n  \"http://www.w3.org/Graphics/SVG/1.1/DTD/svg11.dtd\">\r\n<!-- Created with matplotlib (https://matplotlib.org/) -->\r\n<svg height=\"381.420625pt\" version=\"1.1\" viewBox=\"0 0 486.308125 381.420625\" width=\"486.308125pt\" xmlns=\"http://www.w3.org/2000/svg\" xmlns:xlink=\"http://www.w3.org/1999/xlink\">\r\n <metadata>\r\n  <rdf:RDF xmlns:cc=\"http://creativecommons.org/ns#\" xmlns:dc=\"http://purl.org/dc/elements/1.1/\" xmlns:rdf=\"http://www.w3.org/1999/02/22-rdf-syntax-ns#\">\r\n   <cc:Work>\r\n    <dc:type rdf:resource=\"http://purl.org/dc/dcmitype/StillImage\"/>\r\n    <dc:date>2021-05-13T19:38:17.216698</dc:date>\r\n    <dc:format>image/svg+xml</dc:format>\r\n    <dc:creator>\r\n     <cc:Agent>\r\n      <dc:title>Matplotlib v3.3.2, https://matplotlib.org/</dc:title>\r\n     </cc:Agent>\r\n    </dc:creator>\r\n   </cc:Work>\r\n  </rdf:RDF>\r\n </metadata>\r\n <defs>\r\n  <style type=\"text/css\">*{stroke-linecap:butt;stroke-linejoin:round;}</style>\r\n </defs>\r\n <g id=\"figure_1\">\r\n  <g id=\"patch_1\">\r\n   <path d=\"M 0 381.420625 \r\nL 486.308125 381.420625 \r\nL 486.308125 0 \r\nL 0 0 \r\nz\r\n\" style=\"fill:#bfbfbf;\"/>\r\n  </g>\r\n  <g id=\"axes_1\">\r\n   <g id=\"patch_2\">\r\n    <path d=\"M 28.890625 358.606875 \r\nL 475.290625 358.606875 \r\nL 475.290625 13.006875 \r\nL 28.890625 13.006875 \r\nz\r\n\" style=\"fill:#ffffff;\"/>\r\n   </g>\r\n   <g id=\"PathCollection_1\">\r\n    <defs>\r\n     <path d=\"M 0 2.236068 \r\nC 0.593012 2.236068 1.161816 2.000462 1.581139 1.581139 \r\nC 2.000462 1.161816 2.236068 0.593012 2.236068 0 \r\nC 2.236068 -0.593012 2.000462 -1.161816 1.581139 -1.581139 \r\nC 1.161816 -2.000462 0.593012 -2.236068 0 -2.236068 \r\nC -0.593012 -2.236068 -1.161816 -2.000462 -1.581139 -1.581139 \r\nC -2.000462 -1.161816 -2.236068 -0.593012 -2.236068 0 \r\nC -2.236068 0.593012 -2.000462 1.161816 -1.581139 1.581139 \r\nC -1.161816 2.000462 -0.593012 2.236068 0 2.236068 \r\nz\r\n\" id=\"m11a140deb7\" style=\"stroke:#000000;\"/>\r\n    </defs>\r\n    <g clip-path=\"url(#pc2551b1cbb)\">\r\n     <use style=\"fill:#0000ff;stroke:#000000;\" x=\"283.976339\" xlink:href=\"#m11a140deb7\" y=\"185.806875\"/>\r\n    </g>\r\n   </g>\r\n   <g id=\"PathCollection_2\">\r\n    <g clip-path=\"url(#pc2551b1cbb)\">\r\n     <use style=\"fill:#0000ff;stroke:#000000;\" x=\"92.662054\" xlink:href=\"#m11a140deb7\" y=\"301.006875\"/>\r\n    </g>\r\n   </g>\r\n   <g id=\"PathCollection_3\">\r\n    <g clip-path=\"url(#pc2551b1cbb)\">\r\n     <use style=\"fill:#0000ff;stroke:#000000;\" x=\"283.976339\" xlink:href=\"#m11a140deb7\" y=\"185.806875\"/>\r\n    </g>\r\n   </g>\r\n   <g id=\"PathCollection_4\">\r\n    <g clip-path=\"url(#pc2551b1cbb)\">\r\n     <use style=\"fill:#0000ff;stroke:#000000;\" x=\"92.662054\" xlink:href=\"#m11a140deb7\" y=\"301.006875\"/>\r\n    </g>\r\n   </g>\r\n   <g id=\"PathCollection_5\">\r\n    <g clip-path=\"url(#pc2551b1cbb)\">\r\n     <use style=\"fill:#0000ff;stroke:#000000;\" x=\"347.747768\" xlink:href=\"#m11a140deb7\" y=\"128.206875\"/>\r\n    </g>\r\n   </g>\r\n   <g id=\"PathCollection_6\">\r\n    <g clip-path=\"url(#pc2551b1cbb)\">\r\n     <use style=\"fill:#0000ff;stroke:#000000;\" x=\"156.433482\" xlink:href=\"#m11a140deb7\" y=\"243.406875\"/>\r\n    </g>\r\n   </g>\r\n   <g id=\"PathCollection_7\">\r\n    <g clip-path=\"url(#pc2551b1cbb)\">\r\n     <use style=\"fill:#0000ff;stroke:#000000;\" x=\"347.747768\" xlink:href=\"#m11a140deb7\" y=\"70.606875\"/>\r\n    </g>\r\n   </g>\r\n   <g id=\"PathCollection_8\">\r\n    <g clip-path=\"url(#pc2551b1cbb)\">\r\n     <use style=\"fill:#0000ff;stroke:#000000;\" x=\"156.433482\" xlink:href=\"#m11a140deb7\" y=\"185.806875\"/>\r\n    </g>\r\n   </g>\r\n   <g id=\"PathCollection_9\">\r\n    <g clip-path=\"url(#pc2551b1cbb)\">\r\n     <use style=\"fill:#0000ff;stroke:#000000;\" x=\"283.976339\" xlink:href=\"#m11a140deb7\" y=\"185.806875\"/>\r\n    </g>\r\n   </g>\r\n   <g id=\"PathCollection_10\">\r\n    <g clip-path=\"url(#pc2551b1cbb)\">\r\n     <use style=\"fill:#0000ff;stroke:#000000;\" x=\"92.662054\" xlink:href=\"#m11a140deb7\" y=\"301.006875\"/>\r\n    </g>\r\n   </g>\r\n   <g id=\"PathCollection_11\">\r\n    <g clip-path=\"url(#pc2551b1cbb)\">\r\n     <use style=\"fill:#0000ff;stroke:#000000;\" x=\"347.747768\" xlink:href=\"#m11a140deb7\" y=\"185.806875\"/>\r\n    </g>\r\n   </g>\r\n   <g id=\"PathCollection_12\">\r\n    <g clip-path=\"url(#pc2551b1cbb)\">\r\n     <use style=\"fill:#0000ff;stroke:#000000;\" x=\"156.433482\" xlink:href=\"#m11a140deb7\" y=\"301.006875\"/>\r\n    </g>\r\n   </g>\r\n   <g id=\"PathCollection_13\">\r\n    <g clip-path=\"url(#pc2551b1cbb)\">\r\n     <use style=\"fill:#0000ff;stroke:#000000;\" x=\"411.519196\" xlink:href=\"#m11a140deb7\" y=\"185.806875\"/>\r\n    </g>\r\n   </g>\r\n   <g id=\"PathCollection_14\">\r\n    <g clip-path=\"url(#pc2551b1cbb)\">\r\n     <use style=\"fill:#0000ff;stroke:#000000;\" x=\"220.204911\" xlink:href=\"#m11a140deb7\" y=\"301.006875\"/>\r\n    </g>\r\n   </g>\r\n   <g id=\"PathCollection_15\">\r\n    <g clip-path=\"url(#pc2551b1cbb)\">\r\n     <use style=\"fill:#0000ff;stroke:#000000;\" x=\"347.747768\" xlink:href=\"#m11a140deb7\" y=\"70.606875\"/>\r\n    </g>\r\n   </g>\r\n   <g id=\"PathCollection_16\">\r\n    <g clip-path=\"url(#pc2551b1cbb)\">\r\n     <use style=\"fill:#0000ff;stroke:#000000;\" x=\"156.433482\" xlink:href=\"#m11a140deb7\" y=\"185.806875\"/>\r\n    </g>\r\n   </g>\r\n   <g id=\"PathCollection_17\">\r\n    <g clip-path=\"url(#pc2551b1cbb)\">\r\n     <use style=\"fill:#0000ff;stroke:#000000;\" x=\"347.747768\" xlink:href=\"#m11a140deb7\" y=\"70.606875\"/>\r\n    </g>\r\n   </g>\r\n   <g id=\"PathCollection_18\">\r\n    <g clip-path=\"url(#pc2551b1cbb)\">\r\n     <use style=\"fill:#0000ff;stroke:#000000;\" x=\"156.433482\" xlink:href=\"#m11a140deb7\" y=\"185.806875\"/>\r\n    </g>\r\n   </g>\r\n   <g id=\"PathCollection_19\">\r\n    <g clip-path=\"url(#pc2551b1cbb)\">\r\n     <use style=\"fill:#0000ff;stroke:#000000;\" x=\"411.519196\" xlink:href=\"#m11a140deb7\" y=\"128.206875\"/>\r\n    </g>\r\n   </g>\r\n   <g id=\"PathCollection_20\">\r\n    <g clip-path=\"url(#pc2551b1cbb)\">\r\n     <use style=\"fill:#0000ff;stroke:#000000;\" x=\"220.204911\" xlink:href=\"#m11a140deb7\" y=\"243.406875\"/>\r\n    </g>\r\n   </g>\r\n   <g id=\"PathCollection_21\">\r\n    <g clip-path=\"url(#pc2551b1cbb)\">\r\n     <use style=\"fill:#0000ff;stroke:#000000;\" x=\"411.519196\" xlink:href=\"#m11a140deb7\" y=\"185.806875\"/>\r\n    </g>\r\n   </g>\r\n   <g id=\"PathCollection_22\">\r\n    <g clip-path=\"url(#pc2551b1cbb)\">\r\n     <use style=\"fill:#0000ff;stroke:#000000;\" x=\"220.204911\" xlink:href=\"#m11a140deb7\" y=\"301.006875\"/>\r\n    </g>\r\n   </g>\r\n   <g id=\"PathCollection_23\">\r\n    <g clip-path=\"url(#pc2551b1cbb)\">\r\n     <use style=\"fill:#0000ff;stroke:#000000;\" x=\"411.519196\" xlink:href=\"#m11a140deb7\" y=\"185.806875\"/>\r\n    </g>\r\n   </g>\r\n   <g id=\"PathCollection_24\">\r\n    <g clip-path=\"url(#pc2551b1cbb)\">\r\n     <use style=\"fill:#0000ff;stroke:#000000;\" x=\"220.204911\" xlink:href=\"#m11a140deb7\" y=\"301.006875\"/>\r\n    </g>\r\n   </g>\r\n   <g id=\"patch_3\">\r\n    <path d=\"M 28.890625 358.606875 \r\nL 28.890625 13.006875 \r\n\" style=\"fill:none;stroke:#000000;stroke-linecap:square;stroke-linejoin:miter;\"/>\r\n   </g>\r\n   <g id=\"patch_4\">\r\n    <path d=\"M 475.290625 358.606875 \r\nL 475.290625 13.006875 \r\n\" style=\"fill:none;stroke:#000000;stroke-linecap:square;stroke-linejoin:miter;\"/>\r\n   </g>\r\n   <g id=\"patch_5\">\r\n    <path d=\"M 28.890625 358.606875 \r\nL 475.290625 358.606875 \r\n\" style=\"fill:none;stroke:#000000;stroke-linecap:square;stroke-linejoin:miter;\"/>\r\n   </g>\r\n   <g id=\"patch_6\">\r\n    <path d=\"M 28.890625 13.006875 \r\nL 475.290625 13.006875 \r\n\" style=\"fill:none;stroke:#000000;stroke-linecap:square;stroke-linejoin:miter;\"/>\r\n   </g>\r\n   <g id=\"matplotlib.axis_1\">\r\n    <g id=\"xtick_1\">\r\n     <g id=\"line2d_1\">\r\n      <defs>\r\n       <path d=\"M 0 0 \r\nL 0 -4 \r\n\" id=\"m14300f88f0\" style=\"stroke:#000000;stroke-width:0.5;\"/>\r\n      </defs>\r\n      <g>\r\n       <use style=\"stroke:#000000;stroke-width:0.5;\" x=\"28.890625\" xlink:href=\"#m14300f88f0\" y=\"358.606875\"/>\r\n      </g>\r\n     </g>\r\n     <g id=\"line2d_2\">\r\n      <defs>\r\n       <path d=\"M 0 0 \r\nL 0 4 \r\n\" id=\"m62e80b7895\" style=\"stroke:#000000;stroke-width:0.5;\"/>\r\n      </defs>\r\n      <g>\r\n       <use style=\"stroke:#000000;stroke-width:0.5;\" x=\"28.890625\" xlink:href=\"#m62e80b7895\" y=\"13.006875\"/>\r\n      </g>\r\n     </g>\r\n     <g id=\"text_1\">\r\n      <!-- −3 -->\r\n      <g transform=\"translate(20.045313 371.725)scale(0.12 -0.12)\">\r\n       <defs>\r\n        <path d=\"M 10.59375 35.5 \r\nL 73.1875 35.5 \r\nL 73.1875 27.203125 \r\nL 10.59375 27.203125 \r\nz\r\n\" id=\"DejaVuSans-8722\"/>\r\n        <path d=\"M 40.578125 39.3125 \r\nQ 47.65625 37.796875 51.625 33 \r\nQ 55.609375 28.21875 55.609375 21.1875 \r\nQ 55.609375 10.40625 48.1875 4.484375 \r\nQ 40.765625 -1.421875 27.09375 -1.421875 \r\nQ 22.515625 -1.421875 17.65625 -0.515625 \r\nQ 12.796875 0.390625 7.625 2.203125 \r\nL 7.625 11.71875 \r\nQ 11.71875 9.328125 16.59375 8.109375 \r\nQ 21.484375 6.890625 26.8125 6.890625 \r\nQ 36.078125 6.890625 40.9375 10.546875 \r\nQ 45.796875 14.203125 45.796875 21.1875 \r\nQ 45.796875 27.640625 41.28125 31.265625 \r\nQ 36.765625 34.90625 28.71875 34.90625 \r\nL 20.21875 34.90625 \r\nL 20.21875 43.015625 \r\nL 29.109375 43.015625 \r\nQ 36.375 43.015625 40.234375 45.921875 \r\nQ 44.09375 48.828125 44.09375 54.296875 \r\nQ 44.09375 59.90625 40.109375 62.90625 \r\nQ 36.140625 65.921875 28.71875 65.921875 \r\nQ 24.65625 65.921875 20.015625 65.03125 \r\nQ 15.375 64.15625 9.8125 62.3125 \r\nL 9.8125 71.09375 \r\nQ 15.4375 72.65625 20.34375 73.4375 \r\nQ 25.25 74.21875 29.59375 74.21875 \r\nQ 40.828125 74.21875 47.359375 69.109375 \r\nQ 53.90625 64.015625 53.90625 55.328125 \r\nQ 53.90625 49.265625 50.4375 45.09375 \r\nQ 46.96875 40.921875 40.578125 39.3125 \r\nz\r\n\" id=\"DejaVuSans-51\"/>\r\n       </defs>\r\n       <use xlink:href=\"#DejaVuSans-8722\"/>\r\n       <use x=\"83.789062\" xlink:href=\"#DejaVuSans-51\"/>\r\n      </g>\r\n     </g>\r\n    </g>\r\n    <g id=\"xtick_2\">\r\n     <g id=\"line2d_3\">\r\n      <g>\r\n       <use style=\"stroke:#000000;stroke-width:0.5;\" x=\"92.662054\" xlink:href=\"#m14300f88f0\" y=\"358.606875\"/>\r\n      </g>\r\n     </g>\r\n     <g id=\"line2d_4\">\r\n      <g>\r\n       <use style=\"stroke:#000000;stroke-width:0.5;\" x=\"92.662054\" xlink:href=\"#m62e80b7895\" y=\"13.006875\"/>\r\n      </g>\r\n     </g>\r\n     <g id=\"text_2\">\r\n      <!-- −2 -->\r\n      <g transform=\"translate(83.816741 371.725)scale(0.12 -0.12)\">\r\n       <defs>\r\n        <path d=\"M 19.1875 8.296875 \r\nL 53.609375 8.296875 \r\nL 53.609375 0 \r\nL 7.328125 0 \r\nL 7.328125 8.296875 \r\nQ 12.9375 14.109375 22.625 23.890625 \r\nQ 32.328125 33.6875 34.8125 36.53125 \r\nQ 39.546875 41.84375 41.421875 45.53125 \r\nQ 43.3125 49.21875 43.3125 52.78125 \r\nQ 43.3125 58.59375 39.234375 62.25 \r\nQ 35.15625 65.921875 28.609375 65.921875 \r\nQ 23.96875 65.921875 18.8125 64.3125 \r\nQ 13.671875 62.703125 7.8125 59.421875 \r\nL 7.8125 69.390625 \r\nQ 13.765625 71.78125 18.9375 73 \r\nQ 24.125 74.21875 28.421875 74.21875 \r\nQ 39.75 74.21875 46.484375 68.546875 \r\nQ 53.21875 62.890625 53.21875 53.421875 \r\nQ 53.21875 48.921875 51.53125 44.890625 \r\nQ 49.859375 40.875 45.40625 35.40625 \r\nQ 44.1875 33.984375 37.640625 27.21875 \r\nQ 31.109375 20.453125 19.1875 8.296875 \r\nz\r\n\" id=\"DejaVuSans-50\"/>\r\n       </defs>\r\n       <use xlink:href=\"#DejaVuSans-8722\"/>\r\n       <use x=\"83.789062\" xlink:href=\"#DejaVuSans-50\"/>\r\n      </g>\r\n     </g>\r\n    </g>\r\n    <g id=\"xtick_3\">\r\n     <g id=\"line2d_5\">\r\n      <g>\r\n       <use style=\"stroke:#000000;stroke-width:0.5;\" x=\"156.433482\" xlink:href=\"#m14300f88f0\" y=\"358.606875\"/>\r\n      </g>\r\n     </g>\r\n     <g id=\"line2d_6\">\r\n      <g>\r\n       <use style=\"stroke:#000000;stroke-width:0.5;\" x=\"156.433482\" xlink:href=\"#m62e80b7895\" y=\"13.006875\"/>\r\n      </g>\r\n     </g>\r\n     <g id=\"text_3\">\r\n      <!-- −1 -->\r\n      <g transform=\"translate(147.58817 371.725)scale(0.12 -0.12)\">\r\n       <defs>\r\n        <path d=\"M 12.40625 8.296875 \r\nL 28.515625 8.296875 \r\nL 28.515625 63.921875 \r\nL 10.984375 60.40625 \r\nL 10.984375 69.390625 \r\nL 28.421875 72.90625 \r\nL 38.28125 72.90625 \r\nL 38.28125 8.296875 \r\nL 54.390625 8.296875 \r\nL 54.390625 0 \r\nL 12.40625 0 \r\nz\r\n\" id=\"DejaVuSans-49\"/>\r\n       </defs>\r\n       <use xlink:href=\"#DejaVuSans-8722\"/>\r\n       <use x=\"83.789062\" xlink:href=\"#DejaVuSans-49\"/>\r\n      </g>\r\n     </g>\r\n    </g>\r\n    <g id=\"xtick_4\">\r\n     <g id=\"line2d_7\">\r\n      <g>\r\n       <use style=\"stroke:#000000;stroke-width:0.5;\" x=\"220.204911\" xlink:href=\"#m14300f88f0\" y=\"358.606875\"/>\r\n      </g>\r\n     </g>\r\n     <g id=\"line2d_8\">\r\n      <g>\r\n       <use style=\"stroke:#000000;stroke-width:0.5;\" x=\"220.204911\" xlink:href=\"#m62e80b7895\" y=\"13.006875\"/>\r\n      </g>\r\n     </g>\r\n     <g id=\"text_4\">\r\n      <!-- 0 -->\r\n      <g transform=\"translate(216.387411 371.725)scale(0.12 -0.12)\">\r\n       <defs>\r\n        <path d=\"M 31.78125 66.40625 \r\nQ 24.171875 66.40625 20.328125 58.90625 \r\nQ 16.5 51.421875 16.5 36.375 \r\nQ 16.5 21.390625 20.328125 13.890625 \r\nQ 24.171875 6.390625 31.78125 6.390625 \r\nQ 39.453125 6.390625 43.28125 13.890625 \r\nQ 47.125 21.390625 47.125 36.375 \r\nQ 47.125 51.421875 43.28125 58.90625 \r\nQ 39.453125 66.40625 31.78125 66.40625 \r\nz\r\nM 31.78125 74.21875 \r\nQ 44.046875 74.21875 50.515625 64.515625 \r\nQ 56.984375 54.828125 56.984375 36.375 \r\nQ 56.984375 17.96875 50.515625 8.265625 \r\nQ 44.046875 -1.421875 31.78125 -1.421875 \r\nQ 19.53125 -1.421875 13.0625 8.265625 \r\nQ 6.59375 17.96875 6.59375 36.375 \r\nQ 6.59375 54.828125 13.0625 64.515625 \r\nQ 19.53125 74.21875 31.78125 74.21875 \r\nz\r\n\" id=\"DejaVuSans-48\"/>\r\n       </defs>\r\n       <use xlink:href=\"#DejaVuSans-48\"/>\r\n      </g>\r\n     </g>\r\n    </g>\r\n    <g id=\"xtick_5\">\r\n     <g id=\"line2d_9\">\r\n      <g>\r\n       <use style=\"stroke:#000000;stroke-width:0.5;\" x=\"283.976339\" xlink:href=\"#m14300f88f0\" y=\"358.606875\"/>\r\n      </g>\r\n     </g>\r\n     <g id=\"line2d_10\">\r\n      <g>\r\n       <use style=\"stroke:#000000;stroke-width:0.5;\" x=\"283.976339\" xlink:href=\"#m62e80b7895\" y=\"13.006875\"/>\r\n      </g>\r\n     </g>\r\n     <g id=\"text_5\">\r\n      <!-- 1 -->\r\n      <g transform=\"translate(280.158839 371.725)scale(0.12 -0.12)\">\r\n       <use xlink:href=\"#DejaVuSans-49\"/>\r\n      </g>\r\n     </g>\r\n    </g>\r\n    <g id=\"xtick_6\">\r\n     <g id=\"line2d_11\">\r\n      <g>\r\n       <use style=\"stroke:#000000;stroke-width:0.5;\" x=\"347.747768\" xlink:href=\"#m14300f88f0\" y=\"358.606875\"/>\r\n      </g>\r\n     </g>\r\n     <g id=\"line2d_12\">\r\n      <g>\r\n       <use style=\"stroke:#000000;stroke-width:0.5;\" x=\"347.747768\" xlink:href=\"#m62e80b7895\" y=\"13.006875\"/>\r\n      </g>\r\n     </g>\r\n     <g id=\"text_6\">\r\n      <!-- 2 -->\r\n      <g transform=\"translate(343.930268 371.725)scale(0.12 -0.12)\">\r\n       <use xlink:href=\"#DejaVuSans-50\"/>\r\n      </g>\r\n     </g>\r\n    </g>\r\n    <g id=\"xtick_7\">\r\n     <g id=\"line2d_13\">\r\n      <g>\r\n       <use style=\"stroke:#000000;stroke-width:0.5;\" x=\"411.519196\" xlink:href=\"#m14300f88f0\" y=\"358.606875\"/>\r\n      </g>\r\n     </g>\r\n     <g id=\"line2d_14\">\r\n      <g>\r\n       <use style=\"stroke:#000000;stroke-width:0.5;\" x=\"411.519196\" xlink:href=\"#m62e80b7895\" y=\"13.006875\"/>\r\n      </g>\r\n     </g>\r\n     <g id=\"text_7\">\r\n      <!-- 3 -->\r\n      <g transform=\"translate(407.701696 371.725)scale(0.12 -0.12)\">\r\n       <use xlink:href=\"#DejaVuSans-51\"/>\r\n      </g>\r\n     </g>\r\n    </g>\r\n    <g id=\"xtick_8\">\r\n     <g id=\"line2d_15\">\r\n      <g>\r\n       <use style=\"stroke:#000000;stroke-width:0.5;\" x=\"475.290625\" xlink:href=\"#m14300f88f0\" y=\"358.606875\"/>\r\n      </g>\r\n     </g>\r\n     <g id=\"line2d_16\">\r\n      <g>\r\n       <use style=\"stroke:#000000;stroke-width:0.5;\" x=\"475.290625\" xlink:href=\"#m62e80b7895\" y=\"13.006875\"/>\r\n      </g>\r\n     </g>\r\n     <g id=\"text_8\">\r\n      <!-- 4 -->\r\n      <g transform=\"translate(471.473125 371.725)scale(0.12 -0.12)\">\r\n       <defs>\r\n        <path d=\"M 37.796875 64.3125 \r\nL 12.890625 25.390625 \r\nL 37.796875 25.390625 \r\nz\r\nM 35.203125 72.90625 \r\nL 47.609375 72.90625 \r\nL 47.609375 25.390625 \r\nL 58.015625 25.390625 \r\nL 58.015625 17.1875 \r\nL 47.609375 17.1875 \r\nL 47.609375 0 \r\nL 37.796875 0 \r\nL 37.796875 17.1875 \r\nL 4.890625 17.1875 \r\nL 4.890625 26.703125 \r\nz\r\n\" id=\"DejaVuSans-52\"/>\r\n       </defs>\r\n       <use xlink:href=\"#DejaVuSans-52\"/>\r\n      </g>\r\n     </g>\r\n    </g>\r\n   </g>\r\n   <g id=\"matplotlib.axis_2\">\r\n    <g id=\"ytick_1\">\r\n     <g id=\"line2d_17\">\r\n      <defs>\r\n       <path d=\"M 0 0 \r\nL 4 0 \r\n\" id=\"medc470f00a\" style=\"stroke:#000000;stroke-width:0.5;\"/>\r\n      </defs>\r\n      <g>\r\n       <use style=\"stroke:#000000;stroke-width:0.5;\" x=\"28.890625\" xlink:href=\"#medc470f00a\" y=\"358.606875\"/>\r\n      </g>\r\n     </g>\r\n     <g id=\"line2d_18\">\r\n      <defs>\r\n       <path d=\"M 0 0 \r\nL -4 0 \r\n\" id=\"m7a01702ac4\" style=\"stroke:#000000;stroke-width:0.5;\"/>\r\n      </defs>\r\n      <g>\r\n       <use style=\"stroke:#000000;stroke-width:0.5;\" x=\"475.290625\" xlink:href=\"#m7a01702ac4\" y=\"358.606875\"/>\r\n      </g>\r\n     </g>\r\n     <g id=\"text_9\">\r\n      <!-- −2 -->\r\n      <g transform=\"translate(7.2 361.918125)scale(0.12 -0.12)\">\r\n       <use xlink:href=\"#DejaVuSans-8722\"/>\r\n       <use x=\"83.789062\" xlink:href=\"#DejaVuSans-50\"/>\r\n      </g>\r\n     </g>\r\n    </g>\r\n    <g id=\"ytick_2\">\r\n     <g id=\"line2d_19\">\r\n      <g>\r\n       <use style=\"stroke:#000000;stroke-width:0.5;\" x=\"28.890625\" xlink:href=\"#medc470f00a\" y=\"301.006875\"/>\r\n      </g>\r\n     </g>\r\n     <g id=\"line2d_20\">\r\n      <g>\r\n       <use style=\"stroke:#000000;stroke-width:0.5;\" x=\"475.290625\" xlink:href=\"#m7a01702ac4\" y=\"301.006875\"/>\r\n      </g>\r\n     </g>\r\n     <g id=\"text_10\">\r\n      <!-- −1 -->\r\n      <g transform=\"translate(7.2 304.318125)scale(0.12 -0.12)\">\r\n       <use xlink:href=\"#DejaVuSans-8722\"/>\r\n       <use x=\"83.789062\" xlink:href=\"#DejaVuSans-49\"/>\r\n      </g>\r\n     </g>\r\n    </g>\r\n    <g id=\"ytick_3\">\r\n     <g id=\"line2d_21\">\r\n      <g>\r\n       <use style=\"stroke:#000000;stroke-width:0.5;\" x=\"28.890625\" xlink:href=\"#medc470f00a\" y=\"243.406875\"/>\r\n      </g>\r\n     </g>\r\n     <g id=\"line2d_22\">\r\n      <g>\r\n       <use style=\"stroke:#000000;stroke-width:0.5;\" x=\"475.290625\" xlink:href=\"#m7a01702ac4\" y=\"243.406875\"/>\r\n      </g>\r\n     </g>\r\n     <g id=\"text_11\">\r\n      <!-- 0 -->\r\n      <g transform=\"translate(17.255625 246.718125)scale(0.12 -0.12)\">\r\n       <use xlink:href=\"#DejaVuSans-48\"/>\r\n      </g>\r\n     </g>\r\n    </g>\r\n    <g id=\"ytick_4\">\r\n     <g id=\"line2d_23\">\r\n      <g>\r\n       <use style=\"stroke:#000000;stroke-width:0.5;\" x=\"28.890625\" xlink:href=\"#medc470f00a\" y=\"185.806875\"/>\r\n      </g>\r\n     </g>\r\n     <g id=\"line2d_24\">\r\n      <g>\r\n       <use style=\"stroke:#000000;stroke-width:0.5;\" x=\"475.290625\" xlink:href=\"#m7a01702ac4\" y=\"185.806875\"/>\r\n      </g>\r\n     </g>\r\n     <g id=\"text_12\">\r\n      <!-- 1 -->\r\n      <g transform=\"translate(17.255625 189.118125)scale(0.12 -0.12)\">\r\n       <use xlink:href=\"#DejaVuSans-49\"/>\r\n      </g>\r\n     </g>\r\n    </g>\r\n    <g id=\"ytick_5\">\r\n     <g id=\"line2d_25\">\r\n      <g>\r\n       <use style=\"stroke:#000000;stroke-width:0.5;\" x=\"28.890625\" xlink:href=\"#medc470f00a\" y=\"128.206875\"/>\r\n      </g>\r\n     </g>\r\n     <g id=\"line2d_26\">\r\n      <g>\r\n       <use style=\"stroke:#000000;stroke-width:0.5;\" x=\"475.290625\" xlink:href=\"#m7a01702ac4\" y=\"128.206875\"/>\r\n      </g>\r\n     </g>\r\n     <g id=\"text_13\">\r\n      <!-- 2 -->\r\n      <g transform=\"translate(17.255625 131.518125)scale(0.12 -0.12)\">\r\n       <use xlink:href=\"#DejaVuSans-50\"/>\r\n      </g>\r\n     </g>\r\n    </g>\r\n    <g id=\"ytick_6\">\r\n     <g id=\"line2d_27\">\r\n      <g>\r\n       <use style=\"stroke:#000000;stroke-width:0.5;\" x=\"28.890625\" xlink:href=\"#medc470f00a\" y=\"70.606875\"/>\r\n      </g>\r\n     </g>\r\n     <g id=\"line2d_28\">\r\n      <g>\r\n       <use style=\"stroke:#000000;stroke-width:0.5;\" x=\"475.290625\" xlink:href=\"#m7a01702ac4\" y=\"70.606875\"/>\r\n      </g>\r\n     </g>\r\n     <g id=\"text_14\">\r\n      <!-- 3 -->\r\n      <g transform=\"translate(17.255625 73.918125)scale(0.12 -0.12)\">\r\n       <use xlink:href=\"#DejaVuSans-51\"/>\r\n      </g>\r\n     </g>\r\n    </g>\r\n    <g id=\"ytick_7\">\r\n     <g id=\"line2d_29\">\r\n      <g>\r\n       <use style=\"stroke:#000000;stroke-width:0.5;\" x=\"28.890625\" xlink:href=\"#medc470f00a\" y=\"13.006875\"/>\r\n      </g>\r\n     </g>\r\n     <g id=\"line2d_30\">\r\n      <g>\r\n       <use style=\"stroke:#000000;stroke-width:0.5;\" x=\"475.290625\" xlink:href=\"#m7a01702ac4\" y=\"13.006875\"/>\r\n      </g>\r\n     </g>\r\n     <g id=\"text_15\">\r\n      <!-- 4 -->\r\n      <g transform=\"translate(17.255625 16.318125)scale(0.12 -0.12)\">\r\n       <use xlink:href=\"#DejaVuSans-52\"/>\r\n      </g>\r\n     </g>\r\n    </g>\r\n   </g>\r\n  </g>\r\n </g>\r\n <defs>\r\n  <clipPath id=\"pc2551b1cbb\">\r\n   <rect height=\"345.6\" width=\"446.4\" x=\"28.890625\" y=\"13.006875\"/>\r\n  </clipPath>\r\n </defs>\r\n</svg>\r\n",
      "image/png": "[encoded data removed]"
     },
     "metadata": {}
    }
   ],
   "source": [
    "def traslacion(p = (0, 0), t = (0, 0)):\n",
    "    x, y = p\n",
    "    xt, yt = t\n",
    "    return x + xt, y + yt\n",
    "\n",
    "def Traslacion(puntos = [], T = (0, 0)):\n",
    "    r = len(puntos)\n",
    "    xt, yt = T\n",
    "    for i in range(r):\n",
    "        for j in range(i, r):\n",
    "            x0, y0 = puntos[i] \n",
    "            x1, y1 = puntos[j]\n",
    "            print(x0, y0, x1, y1)\n",
    "            print('___________')\n",
    "            #print(x0 + xt, y0 + yt, x1 + xt, y1 + yt)\n",
    "            for k in  line_bresenham((x0, y0), (x1, y1)):\n",
    "                x, y = k\n",
    "                drawPoint(x, y)\n",
    "                xtr, ytr = traslacion(k, T)\n",
    "                drawPoint(xtr, ytr)\n",
    "            #for k in list(bresenham((x0, y0), (x1, y1))):\n",
    "            #    x, y = k\n",
    "            #    drawPoint(x, y)\n",
    "            \n",
    "p1 = (1, 1) \n",
    "p2 = (2, 3)\n",
    "p3 = (3, 1)\n",
    "T = (-3, -2)\n",
    "Traslacion([p1, p2, p3], T)"
   ]
  },
  {
   "cell_type": "code",
   "execution_count": null,
   "metadata": {},
   "outputs": [],
   "source": []
  }
 ]
}